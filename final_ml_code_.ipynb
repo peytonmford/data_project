{
  "nbformat": 4,
  "nbformat_minor": 0,
  "metadata": {
    "kernelspec": {
      "display_name": "mlenv",
      "language": "python",
      "name": "mlenv"
    },
    "language_info": {
      "codemirror_mode": {
        "name": "ipython",
        "version": 3
      },
      "file_extension": ".py",
      "mimetype": "text/x-python",
      "name": "python",
      "nbconvert_exporter": "python",
      "pygments_lexer": "ipython3",
      "version": "3.7.7"
    },
    "colab": {
      "name": "final_ml_code .ipynb",
      "provenance": []
    }
  },
  "cells": [
    {
      "cell_type": "markdown",
      "metadata": {
        "id": "Z2brmthEgY6w"
      },
      "source": [
        "# Using a csv dataset provided by the Hass Avocado Board, create a machine learning model to predict the best location in the United States for a retail store to sell a new avocado product. "
      ]
    },
    {
      "cell_type": "code",
      "metadata": {
        "id": "-y38PFejgY62"
      },
      "source": [
        "# Import dependencies\n",
        "import matplotlib.pyplot as plt\n",
        "import seaborn as sns\n",
        "import numpy as np\n",
        "import pandas as pd\n",
        "from scipy import stats\n",
        "from sklearn.model_selection import train_test_split\n",
        "from sklearn import metrics\n",
        "from sklearn.preprocessing import StandardScaler\n",
        "from sklearn.feature_selection import VarianceThreshold\n",
        "from sklearn.pipeline import make_pipeline\n",
        "from sklearn.linear_model import*\n",
        "from sklearn.preprocessing import*\n",
        "from sklearn.ensemble import*\n",
        "from sklearn.ensemble import RandomForestClassifier\n",
        "from sklearn.metrics import log_loss \n",
        "from sklearn.preprocessing import LabelEncoder\n",
        "from sklearn.metrics import confusion_matrix, accuracy_score, classification_report\n",
        "from sklearn import tree\n",
        "from flask import Flask\n",
        "from flask import render_template\n",
        "import psycopg2"
      ],
      "execution_count": 2,
      "outputs": []
    },
    {
      "cell_type": "markdown",
      "metadata": {
        "id": "IiRyihQngY63"
      },
      "source": [
        "## Connecting to AWS Database"
      ]
    },
    {
      "cell_type": "code",
      "metadata": {
        "colab": {
          "base_uri": "https://localhost:8080/"
        },
        "id": "yka_bh07gY64",
        "outputId": "7e1e9220-e205-4328-dacc-d800f293d89e"
      },
      "source": [
        "import os\n",
        "# Find the latest version of spark 3.0  from http://www-us.apache.org/dist/spark/ and enter as the spark version\n",
        "# For example:\n",
        "# spark_version = 'spark-3.0.1'\n",
        "spark_version = 'spark-3.0.1'\n",
        "os.environ['SPARK_VERSION']=spark_version\n",
        "\n",
        "# Install Spark and Java\n",
        "!apt-get update\n",
        "!apt-get install openjdk-11-jdk-headless -qq > /dev/null\n",
        "!wget -q http://www-us.apache.org/dist/spark/$SPARK_VERSION/$SPARK_VERSION-bin-hadoop2.7.tgz\n",
        "!tar xf $SPARK_VERSION-bin-hadoop2.7.tgz\n",
        "!pip install -q findspark\n",
        "\n",
        "# Set Environment Variables\n",
        "import os\n",
        "os.environ[\"JAVA_HOME\"] = \"/usr/lib/jvm/java-11-openjdk-amd64\"\n",
        "os.environ[\"SPARK_HOME\"] = f\"/content/{spark_version}-bin-hadoop2.7\"\n",
        "\n",
        "# Start a SparkSession\n",
        "import findspark\n",
        "findspark.init()"
      ],
      "execution_count": 3,
      "outputs": [
        {
          "output_type": "stream",
          "text": [
            "\r0% [Working]\r            \rGet:1 http://security.ubuntu.com/ubuntu bionic-security InRelease [88.7 kB]\n",
            "\r0% [Connecting to archive.ubuntu.com] [1 InRelease 2,589 B/88.7 kB 3%] [Connect\r                                                                               \rGet:2 https://cloud.r-project.org/bin/linux/ubuntu bionic-cran40/ InRelease [3,626 B]\n",
            "\r0% [Connecting to archive.ubuntu.com (91.189.88.142)] [1 InRelease 28.7 kB/88.7\r0% [Connecting to archive.ubuntu.com (91.189.88.142)] [1 InRelease 43.1 kB/88.7\r                                                                               \rIgn:3 https://developer.download.nvidia.com/compute/cuda/repos/ubuntu1804/x86_64  InRelease\n",
            "\r0% [Connecting to archive.ubuntu.com (91.189.88.142)] [1 InRelease 43.1 kB/88.7\r0% [2 InRelease gpgv 3,626 B] [Connecting to archive.ubuntu.com (91.189.88.142)\r                                                                               \rIgn:4 https://developer.download.nvidia.com/compute/machine-learning/repos/ubuntu1804/x86_64  InRelease\n",
            "\r0% [2 InRelease gpgv 3,626 B] [Connecting to archive.ubuntu.com (91.189.88.142)\r                                                                               \rGet:5 https://developer.download.nvidia.com/compute/cuda/repos/ubuntu1804/x86_64  Release [697 B]\n",
            "Hit:6 https://developer.download.nvidia.com/compute/machine-learning/repos/ubuntu1804/x86_64  Release\n",
            "Get:7 https://developer.download.nvidia.com/compute/cuda/repos/ubuntu1804/x86_64  Release.gpg [836 B]\n",
            "Get:8 http://ppa.launchpad.net/c2d4u.team/c2d4u4.0+/ubuntu bionic InRelease [15.9 kB]\n",
            "Hit:9 http://archive.ubuntu.com/ubuntu bionic InRelease\n",
            "Get:10 http://archive.ubuntu.com/ubuntu bionic-updates InRelease [88.7 kB]\n",
            "Hit:11 http://ppa.launchpad.net/cran/libgit2/ubuntu bionic InRelease\n",
            "Get:12 http://security.ubuntu.com/ubuntu bionic-security/universe amd64 Packages [1,383 kB]\n",
            "Get:13 http://ppa.launchpad.net/graphics-drivers/ppa/ubuntu bionic InRelease [21.3 kB]\n",
            "Get:14 http://archive.ubuntu.com/ubuntu bionic-backports InRelease [74.6 kB]\n",
            "Get:16 http://security.ubuntu.com/ubuntu bionic-security/restricted amd64 Packages [289 kB]\n",
            "Get:17 http://security.ubuntu.com/ubuntu bionic-security/main amd64 Packages [1,903 kB]\n",
            "Ign:18 https://developer.download.nvidia.com/compute/cuda/repos/ubuntu1804/x86_64  Packages\n",
            "Get:18 https://developer.download.nvidia.com/compute/cuda/repos/ubuntu1804/x86_64  Packages [549 kB]\n",
            "Get:19 http://ppa.launchpad.net/c2d4u.team/c2d4u4.0+/ubuntu bionic/main Sources [1,718 kB]\n",
            "Get:20 http://archive.ubuntu.com/ubuntu bionic-updates/restricted amd64 Packages [319 kB]\n",
            "Get:21 http://archive.ubuntu.com/ubuntu bionic-updates/universe amd64 Packages [2,154 kB]\n",
            "Get:22 http://archive.ubuntu.com/ubuntu bionic-updates/multiverse amd64 Packages [42.6 kB]\n",
            "Get:23 http://archive.ubuntu.com/ubuntu bionic-updates/main amd64 Packages [2,335 kB]\n",
            "Get:24 http://ppa.launchpad.net/c2d4u.team/c2d4u4.0+/ubuntu bionic/main amd64 Packages [879 kB]\n",
            "Get:25 http://ppa.launchpad.net/graphics-drivers/ppa/ubuntu bionic/main amd64 Packages [49.2 kB]\n",
            "Fetched 11.9 MB in 4s (2,939 kB/s)\n",
            "Reading package lists... Done\n"
          ],
          "name": "stdout"
        }
      ]
    },
    {
      "cell_type": "code",
      "metadata": {
        "colab": {
          "base_uri": "https://localhost:8080/"
        },
        "id": "XZwZMC-4gY64",
        "outputId": "8a39f6be-fdf8-4c22-f859-72c796098c38"
      },
      "source": [
        "!wget https://jdbc.postgresql.org/download/postgresql-42.2.16.jar"
      ],
      "execution_count": 4,
      "outputs": [
        {
          "output_type": "stream",
          "text": [
            "--2021-01-29 00:20:00--  https://jdbc.postgresql.org/download/postgresql-42.2.16.jar\n",
            "Resolving jdbc.postgresql.org (jdbc.postgresql.org)... 72.32.157.228, 2001:4800:3e1:1::228\n",
            "Connecting to jdbc.postgresql.org (jdbc.postgresql.org)|72.32.157.228|:443... connected.\n",
            "HTTP request sent, awaiting response... 200 OK\n",
            "Length: 1002883 (979K) [application/java-archive]\n",
            "Saving to: ‘postgresql-42.2.16.jar’\n",
            "\n",
            "postgresql-42.2.16. 100%[===================>] 979.38K  --.-KB/s    in 0.09s   \n",
            "\n",
            "2021-01-29 00:20:01 (11.2 MB/s) - ‘postgresql-42.2.16.jar’ saved [1002883/1002883]\n",
            "\n"
          ],
          "name": "stdout"
        }
      ]
    },
    {
      "cell_type": "code",
      "metadata": {
        "id": "5BkDSu5AgY65"
      },
      "source": [
        "from pyspark.sql import SparkSession\n",
        "spark = SparkSession.builder.appName(\"CloudETL\").config(\"spark.driver.extraClassPath\",\"/content/postgresql-42.2.16.jar\").getOrCreate()"
      ],
      "execution_count": 5,
      "outputs": []
    },
    {
      "cell_type": "code",
      "metadata": {
        "id": "x7WUNlBHgY65"
      },
      "source": [
        "# Read in data from S3 Buckets\n",
        "from pyspark import SparkFiles\n",
        "url =\"https://tanianguyenavocado-bucket.s3.amazonaws.com/avocado-updated-2020.csv\"\n",
        "spark.sparkContext.addFile(url)\n",
        "avocado_data_df = spark.read.csv(SparkFiles.get(\"avocado-updated-2020.csv\"), sep=\",\", header=True, inferSchema=True)"
      ],
      "execution_count": 6,
      "outputs": []
    },
    {
      "cell_type": "code",
      "metadata": {
        "colab": {
          "base_uri": "https://localhost:8080/"
        },
        "id": "eEgpiau8gY65",
        "outputId": "72b2a1b2-08ec-4fb4-95fb-87719fc6077d"
      },
      "source": [
        "# Show DataFrame\n",
        "avocado_data_df.show()"
      ],
      "execution_count": 7,
      "outputs": [
        {
          "output_type": "stream",
          "text": [
            "+--------+-------------+------------+----------+----------+---------+----------+----------+----------+-----------+------------+----+--------------------+\n",
            "|    date|average_price|total_volume|      4046|      4225|     4770|total_bags|small_bags|large_bags|xlarge_bags|        type|year|           geography|\n",
            "+--------+-------------+------------+----------+----------+---------+----------+----------+----------+-----------+------------+----+--------------------+\n",
            "|1/4/2015|         1.22|    40873.28|    2819.5|  28287.42|     49.9|   9716.46|   9186.93|    529.53|        0.0|conventional|2015|              Albany|\n",
            "|1/4/2015|         1.79|     1373.95|     57.42|    153.88|      0.0|   1162.65|   1162.65|       0.0|        0.0|     organic|2015|              Albany|\n",
            "|1/4/2015|          1.0|   435021.49| 364302.39|  23821.16|    82.15|  46815.79|  16707.15|  30108.64|        0.0|conventional|2015|             Atlanta|\n",
            "|1/4/2015|         1.76|     3846.69|   1500.15|    938.35|      0.0|   1408.19|   1071.35|    336.84|        0.0|     organic|2015|             Atlanta|\n",
            "|1/4/2015|         1.08|   788025.06|  53987.31| 552906.04| 39995.03| 141136.68| 137146.07|   3990.61|        0.0|conventional|2015|Baltimore/Washington|\n",
            "|1/4/2015|         1.29|    19137.28|   8040.64|   6557.47|   657.48|   3881.69|   3881.69|       0.0|        0.0|     organic|2015|Baltimore/Washington|\n",
            "|1/4/2015|         1.01|    80034.32|  44562.12|  24964.23|  2752.35|   7755.62|    6064.3|   1691.32|        0.0|conventional|2015|               Boise|\n",
            "|1/4/2015|         1.64|     1505.12|      1.27|    1129.5|      0.0|    374.35|    186.67|    187.68|        0.0|     organic|2015|               Boise|\n",
            "|1/4/2015|         1.02|    491738.0|   7193.87| 396752.18|   128.82|  87663.13|  87406.84|    256.29|        0.0|conventional|2015|              Boston|\n",
            "|1/4/2015|         1.83|     2192.13|      8.66|    939.43|      0.0|   1244.04|   1244.04|       0.0|        0.0|     organic|2015|              Boston|\n",
            "|1/4/2015|          1.4|   116253.44|   3267.97|  55693.04|   109.55|  57182.88|  57182.88|       0.0|        0.0|conventional|2015|   Buffalo/Rochester|\n",
            "|1/4/2015|         1.73|      379.82|       0.0|     59.82|      0.0|     320.0|     320.0|       0.0|        0.0|     organic|2015|   Buffalo/Rochester|\n",
            "|1/4/2015|         0.93|   5777334.9|2843648.26|2267755.26|137479.64| 528451.74| 477193.38|  47882.56|     3375.8|conventional|2015|          California|\n",
            "|1/4/2015|         1.24|   142349.77| 107490.73|  25711.96|     2.93|   9144.15|   9144.15|       0.0|        0.0|     organic|2015|          California|\n",
            "|1/4/2015|         1.19|   166006.29|  29419.03|  47220.75| 38568.95|  50797.56|  44329.03|   6468.53|        0.0|conventional|2015|           Charlotte|\n",
            "|1/4/2015|         2.13|     2965.62|     151.7|    882.52|   905.77|   1025.63|   1025.63|       0.0|        0.0|     organic|2015|           Charlotte|\n",
            "|1/4/2015|         1.11|   783068.03|  30270.26| 550752.19| 124506.1|  77539.48|  72888.46|   4651.02|        0.0|conventional|2015|             Chicago|\n",
            "|1/4/2015|         1.49|    17723.17|   1189.35|  15628.27|      0.0|    905.55|    905.55|       0.0|        0.0|     organic|2015|             Chicago|\n",
            "|1/4/2015|         0.88|   228569.58|    3274.3| 168764.78|  1447.06|  55083.44|  17525.31|  37445.46|     112.67|conventional|2015|   Cincinnati/Dayton|\n",
            "|1/4/2015|         1.34|     8764.33|    144.47|   6921.75|      0.0|   1698.11|    585.96|   1112.15|        0.0|     organic|2015|   Cincinnati/Dayton|\n",
            "+--------+-------------+------------+----------+----------+---------+----------+----------+----------+-----------+------------+----+--------------------+\n",
            "only showing top 20 rows\n",
            "\n"
          ],
          "name": "stdout"
        }
      ]
    },
    {
      "cell_type": "markdown",
      "metadata": {
        "id": "Yt3eHLW6gY66"
      },
      "source": [
        "## Explore the data and clean "
      ]
    },
    {
      "cell_type": "code",
      "metadata": {
        "id": "oB4POXcfgY66",
        "outputId": "a4c038ea-a395-40dd-c443-6b03cdcdf3a7"
      },
      "source": [
        "#read the dataset\n",
        "data = 'avocado-updated-2020.csv'\n",
        "#df = pd.read_csv(data, index_col = 'geography')\n",
        "df = pd.read_csv(data)\n",
        "df.head()"
      ],
      "execution_count": null,
      "outputs": [
        {
          "output_type": "execute_result",
          "data": {
            "text/html": [
              "<div>\n",
              "<style scoped>\n",
              "    .dataframe tbody tr th:only-of-type {\n",
              "        vertical-align: middle;\n",
              "    }\n",
              "\n",
              "    .dataframe tbody tr th {\n",
              "        vertical-align: top;\n",
              "    }\n",
              "\n",
              "    .dataframe thead th {\n",
              "        text-align: right;\n",
              "    }\n",
              "</style>\n",
              "<table border=\"1\" class=\"dataframe\">\n",
              "  <thead>\n",
              "    <tr style=\"text-align: right;\">\n",
              "      <th></th>\n",
              "      <th>date</th>\n",
              "      <th>average_price</th>\n",
              "      <th>total_volume</th>\n",
              "      <th>4046</th>\n",
              "      <th>4225</th>\n",
              "      <th>4770</th>\n",
              "      <th>total_bags</th>\n",
              "      <th>small_bags</th>\n",
              "      <th>large_bags</th>\n",
              "      <th>xlarge_bags</th>\n",
              "      <th>type</th>\n",
              "      <th>year</th>\n",
              "      <th>geography</th>\n",
              "    </tr>\n",
              "  </thead>\n",
              "  <tbody>\n",
              "    <tr>\n",
              "      <th>0</th>\n",
              "      <td>1/4/2015</td>\n",
              "      <td>1.22</td>\n",
              "      <td>40873.28</td>\n",
              "      <td>2819.50</td>\n",
              "      <td>28287.42</td>\n",
              "      <td>49.90</td>\n",
              "      <td>9716.46</td>\n",
              "      <td>9186.93</td>\n",
              "      <td>529.53</td>\n",
              "      <td>0.0</td>\n",
              "      <td>conventional</td>\n",
              "      <td>2015</td>\n",
              "      <td>Albany</td>\n",
              "    </tr>\n",
              "    <tr>\n",
              "      <th>1</th>\n",
              "      <td>1/4/2015</td>\n",
              "      <td>1.79</td>\n",
              "      <td>1373.95</td>\n",
              "      <td>57.42</td>\n",
              "      <td>153.88</td>\n",
              "      <td>0.00</td>\n",
              "      <td>1162.65</td>\n",
              "      <td>1162.65</td>\n",
              "      <td>0.00</td>\n",
              "      <td>0.0</td>\n",
              "      <td>organic</td>\n",
              "      <td>2015</td>\n",
              "      <td>Albany</td>\n",
              "    </tr>\n",
              "    <tr>\n",
              "      <th>2</th>\n",
              "      <td>1/4/2015</td>\n",
              "      <td>1.00</td>\n",
              "      <td>435021.49</td>\n",
              "      <td>364302.39</td>\n",
              "      <td>23821.16</td>\n",
              "      <td>82.15</td>\n",
              "      <td>46815.79</td>\n",
              "      <td>16707.15</td>\n",
              "      <td>30108.64</td>\n",
              "      <td>0.0</td>\n",
              "      <td>conventional</td>\n",
              "      <td>2015</td>\n",
              "      <td>Atlanta</td>\n",
              "    </tr>\n",
              "    <tr>\n",
              "      <th>3</th>\n",
              "      <td>1/4/2015</td>\n",
              "      <td>1.76</td>\n",
              "      <td>3846.69</td>\n",
              "      <td>1500.15</td>\n",
              "      <td>938.35</td>\n",
              "      <td>0.00</td>\n",
              "      <td>1408.19</td>\n",
              "      <td>1071.35</td>\n",
              "      <td>336.84</td>\n",
              "      <td>0.0</td>\n",
              "      <td>organic</td>\n",
              "      <td>2015</td>\n",
              "      <td>Atlanta</td>\n",
              "    </tr>\n",
              "    <tr>\n",
              "      <th>4</th>\n",
              "      <td>1/4/2015</td>\n",
              "      <td>1.08</td>\n",
              "      <td>788025.06</td>\n",
              "      <td>53987.31</td>\n",
              "      <td>552906.04</td>\n",
              "      <td>39995.03</td>\n",
              "      <td>141136.68</td>\n",
              "      <td>137146.07</td>\n",
              "      <td>3990.61</td>\n",
              "      <td>0.0</td>\n",
              "      <td>conventional</td>\n",
              "      <td>2015</td>\n",
              "      <td>Baltimore/Washington</td>\n",
              "    </tr>\n",
              "  </tbody>\n",
              "</table>\n",
              "</div>"
            ],
            "text/plain": [
              "       date  average_price  total_volume       4046       4225      4770  \\\n",
              "0  1/4/2015           1.22      40873.28    2819.50   28287.42     49.90   \n",
              "1  1/4/2015           1.79       1373.95      57.42     153.88      0.00   \n",
              "2  1/4/2015           1.00     435021.49  364302.39   23821.16     82.15   \n",
              "3  1/4/2015           1.76       3846.69    1500.15     938.35      0.00   \n",
              "4  1/4/2015           1.08     788025.06   53987.31  552906.04  39995.03   \n",
              "\n",
              "   total_bags  small_bags  large_bags  xlarge_bags          type  year  \\\n",
              "0     9716.46     9186.93      529.53          0.0  conventional  2015   \n",
              "1     1162.65     1162.65        0.00          0.0       organic  2015   \n",
              "2    46815.79    16707.15    30108.64          0.0  conventional  2015   \n",
              "3     1408.19     1071.35      336.84          0.0       organic  2015   \n",
              "4   141136.68   137146.07     3990.61          0.0  conventional  2015   \n",
              "\n",
              "              geography  \n",
              "0                Albany  \n",
              "1                Albany  \n",
              "2               Atlanta  \n",
              "3               Atlanta  \n",
              "4  Baltimore/Washington  "
            ]
          },
          "metadata": {
            "tags": []
          },
          "execution_count": 28
        }
      ]
    },
    {
      "cell_type": "code",
      "metadata": {
        "id": "8dQgCfKsgY66",
        "outputId": "30201afc-eb39-4412-a326-ff7289f047c3"
      },
      "source": [
        "df.info()"
      ],
      "execution_count": null,
      "outputs": [
        {
          "output_type": "stream",
          "text": [
            "<class 'pandas.core.frame.DataFrame'>\n",
            "RangeIndex: 30021 entries, 0 to 30020\n",
            "Data columns (total 13 columns):\n",
            " #   Column         Non-Null Count  Dtype  \n",
            "---  ------         --------------  -----  \n",
            " 0   date           30021 non-null  object \n",
            " 1   average_price  30021 non-null  float64\n",
            " 2   total_volume   30021 non-null  float64\n",
            " 3   4046           30021 non-null  float64\n",
            " 4   4225           30021 non-null  float64\n",
            " 5   4770           30021 non-null  float64\n",
            " 6   total_bags     30021 non-null  float64\n",
            " 7   small_bags     30021 non-null  float64\n",
            " 8   large_bags     30021 non-null  float64\n",
            " 9   xlarge_bags    30021 non-null  float64\n",
            " 10  type           30021 non-null  object \n",
            " 11  year           30021 non-null  int64  \n",
            " 12  geography      30021 non-null  object \n",
            "dtypes: float64(9), int64(1), object(3)\n",
            "memory usage: 3.0+ MB\n"
          ],
          "name": "stdout"
        }
      ]
    },
    {
      "cell_type": "code",
      "metadata": {
        "id": "kbXDH-k7gY67",
        "outputId": "a18d6b10-4dc1-4e68-8613-f299812d0a82"
      },
      "source": [
        "df.isnull().sum()"
      ],
      "execution_count": null,
      "outputs": [
        {
          "output_type": "execute_result",
          "data": {
            "text/plain": [
              "date             0\n",
              "average_price    0\n",
              "total_volume     0\n",
              "4046             0\n",
              "4225             0\n",
              "4770             0\n",
              "total_bags       0\n",
              "small_bags       0\n",
              "large_bags       0\n",
              "xlarge_bags      0\n",
              "type             0\n",
              "year             0\n",
              "geography        0\n",
              "dtype: int64"
            ]
          },
          "metadata": {
            "tags": []
          },
          "execution_count": 30
        }
      ]
    },
    {
      "cell_type": "code",
      "metadata": {
        "id": "6-yyyX-HgY67",
        "outputId": "bce32b47-a806-42f3-fb35-b1f5e4a82800"
      },
      "source": [
        "# Determine the dytpes of each column \n",
        "df.dtypes"
      ],
      "execution_count": null,
      "outputs": [
        {
          "output_type": "execute_result",
          "data": {
            "text/plain": [
              "date              object\n",
              "average_price    float64\n",
              "total_volume     float64\n",
              "4046             float64\n",
              "4225             float64\n",
              "4770             float64\n",
              "total_bags       float64\n",
              "small_bags       float64\n",
              "large_bags       float64\n",
              "xlarge_bags      float64\n",
              "type              object\n",
              "year               int64\n",
              "geography         object\n",
              "dtype: object"
            ]
          },
          "metadata": {
            "tags": []
          },
          "execution_count": 31
        }
      ]
    },
    {
      "cell_type": "code",
      "metadata": {
        "id": "45qEVOlFgY67",
        "outputId": "c0fae26e-0c14-4d5f-a1fe-52ae06228489"
      },
      "source": [
        "#Determine if there is duplicated data\n",
        "print('total number of duplicate values : ',sum(df.duplicated()))"
      ],
      "execution_count": null,
      "outputs": [
        {
          "output_type": "stream",
          "text": [
            "total number of duplicate values :  0\n"
          ],
          "name": "stdout"
        }
      ]
    },
    {
      "cell_type": "markdown",
      "metadata": {
        "id": "mwXbVmbTgY67"
      },
      "source": [
        "### The target column for the machine learning model will be the geography column because we are trying to predict a location for the next retail store based on the sales information contained in the features columns. Determine specific information about the geography column."
      ]
    },
    {
      "cell_type": "code",
      "metadata": {
        "id": "9mSXtTtvgY67",
        "outputId": "8895455c-e695-4559-f368-55645903f2d0"
      },
      "source": [
        "# Create a list of locations from the geography column and convert them all to numbers for the machine learning model\n",
        "df['geography'].unique()"
      ],
      "execution_count": null,
      "outputs": [
        {
          "output_type": "execute_result",
          "data": {
            "text/plain": [
              "array(['Albany', 'Atlanta', 'Baltimore/Washington', 'Boise', 'Boston',\n",
              "       'Buffalo/Rochester', 'California', 'Charlotte', 'Chicago',\n",
              "       'Cincinnati/Dayton', 'Columbus', 'Dallas/Ft. Worth', 'Denver',\n",
              "       'Detroit', 'Grand Rapids', 'Great Lakes', 'Harrisburg/Scranton',\n",
              "       'Hartford/Springfield', 'Houston', 'Indianapolis', 'Jacksonville',\n",
              "       'Las Vegas', 'Los Angeles', 'Louisville', 'Miami/Ft. Lauderdale',\n",
              "       'Midsouth', 'Nashville', 'New Orleans/Mobile', 'New York',\n",
              "       'Northeast', 'Northern New England', 'Orlando', 'Philadelphia',\n",
              "       'Phoenix/Tucson', 'Pittsburgh', 'Plains', 'Portland',\n",
              "       'Raleigh/Greensboro', 'Richmond/Norfolk', 'Roanoke', 'Sacramento',\n",
              "       'San Diego', 'San Francisco', 'Seattle', 'South Carolina',\n",
              "       'South Central', 'Southeast', 'Spokane', 'St. Louis', 'Syracuse',\n",
              "       'Tampa', 'Total U.S.', 'West', 'West Tex/New Mexico'], dtype=object)"
            ]
          },
          "metadata": {
            "tags": []
          },
          "execution_count": 33
        }
      ]
    },
    {
      "cell_type": "code",
      "metadata": {
        "id": "DG_2Vf0YgY68",
        "outputId": "e607b74d-6a5d-4c26-d82f-b553b8bbb2be"
      },
      "source": [
        "#Determine the distribution of the data in the geography column \n",
        "# Checking for class balance using the column I think will be the target: geography\n",
        "df.groupby('geography').size() "
      ],
      "execution_count": null,
      "outputs": [
        {
          "output_type": "execute_result",
          "data": {
            "text/plain": [
              "geography\n",
              "Albany                  556\n",
              "Atlanta                 556\n",
              "Baltimore/Washington    556\n",
              "Boise                   556\n",
              "Boston                  556\n",
              "Buffalo/Rochester       556\n",
              "California              556\n",
              "Charlotte               556\n",
              "Chicago                 556\n",
              "Cincinnati/Dayton       556\n",
              "Columbus                556\n",
              "Dallas/Ft. Worth        556\n",
              "Denver                  556\n",
              "Detroit                 556\n",
              "Grand Rapids            556\n",
              "Great Lakes             556\n",
              "Harrisburg/Scranton     556\n",
              "Hartford/Springfield    556\n",
              "Houston                 556\n",
              "Indianapolis            556\n",
              "Jacksonville            556\n",
              "Las Vegas               556\n",
              "Los Angeles             556\n",
              "Louisville              556\n",
              "Miami/Ft. Lauderdale    556\n",
              "Midsouth                556\n",
              "Nashville               556\n",
              "New Orleans/Mobile      556\n",
              "New York                556\n",
              "Northeast               556\n",
              "Northern New England    556\n",
              "Orlando                 556\n",
              "Philadelphia            556\n",
              "Phoenix/Tucson          556\n",
              "Pittsburgh              556\n",
              "Plains                  556\n",
              "Portland                556\n",
              "Raleigh/Greensboro      556\n",
              "Richmond/Norfolk        556\n",
              "Roanoke                 556\n",
              "Sacramento              556\n",
              "San Diego               556\n",
              "San Francisco           556\n",
              "Seattle                 556\n",
              "South Carolina          556\n",
              "South Central           556\n",
              "Southeast               556\n",
              "Spokane                 556\n",
              "St. Louis               556\n",
              "Syracuse                556\n",
              "Tampa                   556\n",
              "Total U.S.              556\n",
              "West                    556\n",
              "West Tex/New Mexico     553\n",
              "dtype: int64"
            ]
          },
          "metadata": {
            "tags": []
          },
          "execution_count": 34
        }
      ]
    },
    {
      "cell_type": "code",
      "metadata": {
        "id": "d5DELOa7gY68",
        "outputId": "03dc0715-4a1c-4e88-94a4-546ce39ec2d6"
      },
      "source": [
        "# Drop the geography columns that summarize the data already found in the cities...\n",
        "df.drop(df.loc[df['geography']== 'California'].index, inplace=True)\n",
        "df.drop(df.loc[df['geography']== 'Great Lakes'].index, inplace=True)\n",
        "df.drop(df.loc[df['geography']== 'Northeast'].index, inplace=True)\n",
        "df.drop(df.loc[df['geography']== 'South Central'].index, inplace=True)\n",
        "df.drop(df.loc[df['geography']== 'Plains'].index, inplace=True)\n",
        "df.drop(df.loc[df['geography']== 'Northern New England'].index, inplace=True)\n",
        "df.drop(df.loc[df['geography']== 'Total U.S.'].index, inplace=True)\n",
        "df.drop(df.loc[df['geography']== 'West'].index, inplace=True)\n",
        "df.drop(df.loc[df['geography']== 'Great Lakes'].index, inplace=True)\n",
        "df.drop(df.loc[df['geography']== 'Southeast'].index, inplace=True)\n",
        "df.drop(df.loc[df['geography']== 'Houston'].index, inplace=True)\n",
        "df.drop(df.loc[df['geography']== 'Tampa'].index, inplace=True)\n",
        "df.drop(df.loc[df['geography']== 'Las Vegas'].index, inplace=True)\n",
        "df.drop(df.loc[df['geography']== 'Charlotte'].index, inplace=True)\n",
        "df.drop(df.loc[df['geography']== 'Grand Rapids'].index, inplace=True)\n",
        "df.drop(df.loc[df['geography']== 'Boise'].index, inplace=True)\n",
        "df.head(10)"
      ],
      "execution_count": null,
      "outputs": [
        {
          "output_type": "execute_result",
          "data": {
            "text/html": [
              "<div>\n",
              "<style scoped>\n",
              "    .dataframe tbody tr th:only-of-type {\n",
              "        vertical-align: middle;\n",
              "    }\n",
              "\n",
              "    .dataframe tbody tr th {\n",
              "        vertical-align: top;\n",
              "    }\n",
              "\n",
              "    .dataframe thead th {\n",
              "        text-align: right;\n",
              "    }\n",
              "</style>\n",
              "<table border=\"1\" class=\"dataframe\">\n",
              "  <thead>\n",
              "    <tr style=\"text-align: right;\">\n",
              "      <th></th>\n",
              "      <th>date</th>\n",
              "      <th>average_price</th>\n",
              "      <th>total_volume</th>\n",
              "      <th>4046</th>\n",
              "      <th>4225</th>\n",
              "      <th>4770</th>\n",
              "      <th>total_bags</th>\n",
              "      <th>small_bags</th>\n",
              "      <th>large_bags</th>\n",
              "      <th>xlarge_bags</th>\n",
              "      <th>type</th>\n",
              "      <th>year</th>\n",
              "      <th>geography</th>\n",
              "    </tr>\n",
              "  </thead>\n",
              "  <tbody>\n",
              "    <tr>\n",
              "      <th>0</th>\n",
              "      <td>1/4/2015</td>\n",
              "      <td>1.22</td>\n",
              "      <td>40873.28</td>\n",
              "      <td>2819.50</td>\n",
              "      <td>28287.42</td>\n",
              "      <td>49.90</td>\n",
              "      <td>9716.46</td>\n",
              "      <td>9186.93</td>\n",
              "      <td>529.53</td>\n",
              "      <td>0.0</td>\n",
              "      <td>conventional</td>\n",
              "      <td>2015</td>\n",
              "      <td>Albany</td>\n",
              "    </tr>\n",
              "    <tr>\n",
              "      <th>1</th>\n",
              "      <td>1/4/2015</td>\n",
              "      <td>1.79</td>\n",
              "      <td>1373.95</td>\n",
              "      <td>57.42</td>\n",
              "      <td>153.88</td>\n",
              "      <td>0.00</td>\n",
              "      <td>1162.65</td>\n",
              "      <td>1162.65</td>\n",
              "      <td>0.00</td>\n",
              "      <td>0.0</td>\n",
              "      <td>organic</td>\n",
              "      <td>2015</td>\n",
              "      <td>Albany</td>\n",
              "    </tr>\n",
              "    <tr>\n",
              "      <th>2</th>\n",
              "      <td>1/4/2015</td>\n",
              "      <td>1.00</td>\n",
              "      <td>435021.49</td>\n",
              "      <td>364302.39</td>\n",
              "      <td>23821.16</td>\n",
              "      <td>82.15</td>\n",
              "      <td>46815.79</td>\n",
              "      <td>16707.15</td>\n",
              "      <td>30108.64</td>\n",
              "      <td>0.0</td>\n",
              "      <td>conventional</td>\n",
              "      <td>2015</td>\n",
              "      <td>Atlanta</td>\n",
              "    </tr>\n",
              "    <tr>\n",
              "      <th>3</th>\n",
              "      <td>1/4/2015</td>\n",
              "      <td>1.76</td>\n",
              "      <td>3846.69</td>\n",
              "      <td>1500.15</td>\n",
              "      <td>938.35</td>\n",
              "      <td>0.00</td>\n",
              "      <td>1408.19</td>\n",
              "      <td>1071.35</td>\n",
              "      <td>336.84</td>\n",
              "      <td>0.0</td>\n",
              "      <td>organic</td>\n",
              "      <td>2015</td>\n",
              "      <td>Atlanta</td>\n",
              "    </tr>\n",
              "    <tr>\n",
              "      <th>4</th>\n",
              "      <td>1/4/2015</td>\n",
              "      <td>1.08</td>\n",
              "      <td>788025.06</td>\n",
              "      <td>53987.31</td>\n",
              "      <td>552906.04</td>\n",
              "      <td>39995.03</td>\n",
              "      <td>141136.68</td>\n",
              "      <td>137146.07</td>\n",
              "      <td>3990.61</td>\n",
              "      <td>0.0</td>\n",
              "      <td>conventional</td>\n",
              "      <td>2015</td>\n",
              "      <td>Baltimore/Washington</td>\n",
              "    </tr>\n",
              "    <tr>\n",
              "      <th>5</th>\n",
              "      <td>1/4/2015</td>\n",
              "      <td>1.29</td>\n",
              "      <td>19137.28</td>\n",
              "      <td>8040.64</td>\n",
              "      <td>6557.47</td>\n",
              "      <td>657.48</td>\n",
              "      <td>3881.69</td>\n",
              "      <td>3881.69</td>\n",
              "      <td>0.00</td>\n",
              "      <td>0.0</td>\n",
              "      <td>organic</td>\n",
              "      <td>2015</td>\n",
              "      <td>Baltimore/Washington</td>\n",
              "    </tr>\n",
              "    <tr>\n",
              "      <th>8</th>\n",
              "      <td>1/4/2015</td>\n",
              "      <td>1.02</td>\n",
              "      <td>491738.00</td>\n",
              "      <td>7193.87</td>\n",
              "      <td>396752.18</td>\n",
              "      <td>128.82</td>\n",
              "      <td>87663.13</td>\n",
              "      <td>87406.84</td>\n",
              "      <td>256.29</td>\n",
              "      <td>0.0</td>\n",
              "      <td>conventional</td>\n",
              "      <td>2015</td>\n",
              "      <td>Boston</td>\n",
              "    </tr>\n",
              "    <tr>\n",
              "      <th>9</th>\n",
              "      <td>1/4/2015</td>\n",
              "      <td>1.83</td>\n",
              "      <td>2192.13</td>\n",
              "      <td>8.66</td>\n",
              "      <td>939.43</td>\n",
              "      <td>0.00</td>\n",
              "      <td>1244.04</td>\n",
              "      <td>1244.04</td>\n",
              "      <td>0.00</td>\n",
              "      <td>0.0</td>\n",
              "      <td>organic</td>\n",
              "      <td>2015</td>\n",
              "      <td>Boston</td>\n",
              "    </tr>\n",
              "    <tr>\n",
              "      <th>10</th>\n",
              "      <td>1/4/2015</td>\n",
              "      <td>1.40</td>\n",
              "      <td>116253.44</td>\n",
              "      <td>3267.97</td>\n",
              "      <td>55693.04</td>\n",
              "      <td>109.55</td>\n",
              "      <td>57182.88</td>\n",
              "      <td>57182.88</td>\n",
              "      <td>0.00</td>\n",
              "      <td>0.0</td>\n",
              "      <td>conventional</td>\n",
              "      <td>2015</td>\n",
              "      <td>Buffalo/Rochester</td>\n",
              "    </tr>\n",
              "    <tr>\n",
              "      <th>11</th>\n",
              "      <td>1/4/2015</td>\n",
              "      <td>1.73</td>\n",
              "      <td>379.82</td>\n",
              "      <td>0.00</td>\n",
              "      <td>59.82</td>\n",
              "      <td>0.00</td>\n",
              "      <td>320.00</td>\n",
              "      <td>320.00</td>\n",
              "      <td>0.00</td>\n",
              "      <td>0.0</td>\n",
              "      <td>organic</td>\n",
              "      <td>2015</td>\n",
              "      <td>Buffalo/Rochester</td>\n",
              "    </tr>\n",
              "  </tbody>\n",
              "</table>\n",
              "</div>"
            ],
            "text/plain": [
              "        date  average_price  total_volume       4046       4225      4770  \\\n",
              "0   1/4/2015           1.22      40873.28    2819.50   28287.42     49.90   \n",
              "1   1/4/2015           1.79       1373.95      57.42     153.88      0.00   \n",
              "2   1/4/2015           1.00     435021.49  364302.39   23821.16     82.15   \n",
              "3   1/4/2015           1.76       3846.69    1500.15     938.35      0.00   \n",
              "4   1/4/2015           1.08     788025.06   53987.31  552906.04  39995.03   \n",
              "5   1/4/2015           1.29      19137.28    8040.64    6557.47    657.48   \n",
              "8   1/4/2015           1.02     491738.00    7193.87  396752.18    128.82   \n",
              "9   1/4/2015           1.83       2192.13       8.66     939.43      0.00   \n",
              "10  1/4/2015           1.40     116253.44    3267.97   55693.04    109.55   \n",
              "11  1/4/2015           1.73        379.82       0.00      59.82      0.00   \n",
              "\n",
              "    total_bags  small_bags  large_bags  xlarge_bags          type  year  \\\n",
              "0      9716.46     9186.93      529.53          0.0  conventional  2015   \n",
              "1      1162.65     1162.65        0.00          0.0       organic  2015   \n",
              "2     46815.79    16707.15    30108.64          0.0  conventional  2015   \n",
              "3      1408.19     1071.35      336.84          0.0       organic  2015   \n",
              "4    141136.68   137146.07     3990.61          0.0  conventional  2015   \n",
              "5      3881.69     3881.69        0.00          0.0       organic  2015   \n",
              "8     87663.13    87406.84      256.29          0.0  conventional  2015   \n",
              "9      1244.04     1244.04        0.00          0.0       organic  2015   \n",
              "10    57182.88    57182.88        0.00          0.0  conventional  2015   \n",
              "11      320.00      320.00        0.00          0.0       organic  2015   \n",
              "\n",
              "               geography  \n",
              "0                 Albany  \n",
              "1                 Albany  \n",
              "2                Atlanta  \n",
              "3                Atlanta  \n",
              "4   Baltimore/Washington  \n",
              "5   Baltimore/Washington  \n",
              "8                 Boston  \n",
              "9                 Boston  \n",
              "10     Buffalo/Rochester  \n",
              "11     Buffalo/Rochester  "
            ]
          },
          "metadata": {
            "tags": []
          },
          "execution_count": 35
        }
      ]
    },
    {
      "cell_type": "code",
      "metadata": {
        "id": "uO5tLlJzgY68",
        "outputId": "c14f0e84-8501-4daa-a0dc-22fe72bb274d"
      },
      "source": [
        "# Determine the number of locations after the summary locations are deleted (Started with 54)\n",
        "df['geography'].nunique()"
      ],
      "execution_count": null,
      "outputs": [
        {
          "output_type": "execute_result",
          "data": {
            "text/plain": [
              "39"
            ]
          },
          "metadata": {
            "tags": []
          },
          "execution_count": 36
        }
      ]
    },
    {
      "cell_type": "code",
      "metadata": {
        "id": "Nx9Z812ugY69",
        "outputId": "14e4d9e4-f42e-4af7-a61d-ebfc894c83d9"
      },
      "source": [
        "# Which geographic location contains the highest average price for avocados\n",
        "avg_pr=df.groupby('geography')['average_price'].mean().sort_values(ascending=False).values\n",
        "loc=df.groupby('geography')['average_price'].mean().sort_values(ascending=False).index\n",
        "plt.figure(figsize=(7,15))\n",
        "sns.barplot(x=avg_pr,y=loc)"
      ],
      "execution_count": null,
      "outputs": [
        {
          "output_type": "execute_result",
          "data": {
            "text/plain": [
              "<matplotlib.axes._subplots.AxesSubplot at 0x17ac82380c8>"
            ]
          },
          "metadata": {
            "tags": []
          },
          "execution_count": 37
        },
        {
          "output_type": "display_data",
          "data": {
            "image/png": "[encoded data removed]",
            "text/plain": [
              "<Figure size 504x1080 with 1 Axes>"
            ]
          },
          "metadata": {
            "tags": [],
            "needs_background": "light"
          }
        }
      ]
    },
    {
      "cell_type": "code",
      "metadata": {
        "id": "UHqBCB4rgY69",
        "outputId": "32902b29-ba3b-4416-ce7a-5199145cdec1"
      },
      "source": [
        "# Which geographical area consumed the most avocaos\n",
        "avg_vol=df.groupby('geography')['total_volume'].mean().sort_values(ascending=False).values[1:]\n",
        "loc=df.groupby('geography')['total_volume'].mean().sort_values(ascending=False).index[1:]\n",
        "\n",
        "avg_bag=df.groupby('geography')['total_bags'].mean().sort_values(ascending=False).values[1:]\n",
        "loc=df.groupby('geography')['total_bags'].mean().sort_values(ascending=False).index[1:]\n",
        "\n",
        "fig,ax=plt.subplots(1,2,figsize=(20,10))\n",
        "sns.barplot(x=avg_vol,y=loc,ax=ax[0])\n",
        "ax[0].set_title('Average Volume per Area')\n",
        "\n",
        "sns.barplot(x=avg_bag,y=loc,ax=ax[1])\n",
        "ax[1].set_title('Average Pieces Sold per Area')"
      ],
      "execution_count": null,
      "outputs": [
        {
          "output_type": "execute_result",
          "data": {
            "text/plain": [
              "Text(0.5, 1.0, 'Average Pieces Sold per Area')"
            ]
          },
          "metadata": {
            "tags": []
          },
          "execution_count": 38
        },
        {
          "output_type": "display_data",
          "data": {
            "image/png": "[encoded data removed]",
            "text/plain": [
              "<Figure size 1440x720 with 2 Axes>"
            ]
          },
          "metadata": {
            "tags": [],
            "needs_background": "light"
          }
        }
      ]
    },
    {
      "cell_type": "code",
      "metadata": {
        "id": "MpVUxjyzgY69",
        "outputId": "17b93b71-7ce3-4180-ba8e-dc12728daff8"
      },
      "source": [
        "# What is the average price per month in each of the geographical locations? \n",
        "average_price=df.groupby('geography')['total_volume'].mean().sort_values(ascending=False).values[1:]\n",
        "loc=df.groupby('geography')['total_volume'].mean().sort_values(ascending=False).index[1:]\n",
        "average_price=df.groupby('geography')['total_bags'].mean().sort_values(ascending=False).values[1:]\n",
        "loc=df.groupby('geography')['total_bags'].mean().sort_values(ascending=False).index[1:]\n",
        "\n",
        "\n",
        "fig,ax=plt.subplots(1,2,figsize=(20,10))\n",
        "sns.barplot(x=avg_vol,y=loc,ax=ax[0])\n",
        "ax[0].set_title('Conventional Average Price by Month')\n",
        "\n",
        "sns.barplot(x=avg_bag,y=loc,ax=ax[1])\n",
        "ax[1].set_title('Organic Average Price by Month')"
      ],
      "execution_count": null,
      "outputs": [
        {
          "output_type": "execute_result",
          "data": {
            "text/plain": [
              "Text(0.5, 1.0, 'Organic Average Price by Month')"
            ]
          },
          "metadata": {
            "tags": []
          },
          "execution_count": 39
        },
        {
          "output_type": "display_data",
          "data": {
            "image/png": "[encoded data removed]",
            "text/plain": [
              "<Figure size 1440x720 with 2 Axes>"
            ]
          },
          "metadata": {
            "tags": [],
            "needs_background": "light"
          }
        }
      ]
    },
    {
      "cell_type": "markdown",
      "metadata": {
        "id": "YtlKWravgY6-"
      },
      "source": [
        "## Encode catagorical variables of the feature columns into numeric types so they will work with the machine learning model."
      ]
    },
    {
      "cell_type": "code",
      "metadata": {
        "id": "U8ur5IZcgY6-",
        "outputId": "c6cce52e-34fd-4ecc-de06-3b803ea12543"
      },
      "source": [
        "# Convert the date column to a timestamp for the machine learning model\n",
        "df[\"date\"] = df[\"date\"].map(pd.to_datetime)\n",
        "df[\"date\"][0]"
      ],
      "execution_count": null,
      "outputs": [
        {
          "output_type": "execute_result",
          "data": {
            "text/plain": [
              "Timestamp('2015-01-04 00:00:00')"
            ]
          },
          "metadata": {
            "tags": []
          },
          "execution_count": 40
        }
      ]
    },
    {
      "cell_type": "code",
      "metadata": {
        "id": "RLfxN5F9gY6-",
        "outputId": "34256416-c941-472e-b04f-c40b4b8127c0"
      },
      "source": [
        "import datetime\n",
        "df[\"date\"] = df[\"date\"].map(lambda x: (x-datetime.datetime(1970,1,1)).total_seconds())\n",
        "df[\"date\"]"
      ],
      "execution_count": null,
      "outputs": [
        {
          "output_type": "execute_result",
          "data": {
            "text/plain": [
              "0        1.420330e+09\n",
              "1        1.420330e+09\n",
              "2        1.420330e+09\n",
              "3        1.420330e+09\n",
              "4        1.420330e+09\n",
              "             ...     \n",
              "30010    1.589674e+09\n",
              "30011    1.589674e+09\n",
              "30012    1.589674e+09\n",
              "30019    1.589674e+09\n",
              "30020    1.589674e+09\n",
              "Name: date, Length: 21681, dtype: float64"
            ]
          },
          "metadata": {
            "tags": []
          },
          "execution_count": 41
        }
      ]
    },
    {
      "cell_type": "code",
      "metadata": {
        "id": "WMW-FTFqgY6-",
        "outputId": "70a8cb6b-78d6-4902-e318-8efb4659a70f"
      },
      "source": [
        "# Change the 'type' column from words to numbers for the ml model\n",
        "df.type.map(dict(conventional=1, organic=0))\n",
        "df = df.replace(to_replace=\"conventional\", value=\"1\")\n",
        "df = df.replace(to_replace=\"organic\", value=\"0\")\n",
        "df.head()"
      ],
      "execution_count": null,
      "outputs": [
        {
          "output_type": "execute_result",
          "data": {
            "text/html": [
              "<div>\n",
              "<style scoped>\n",
              "    .dataframe tbody tr th:only-of-type {\n",
              "        vertical-align: middle;\n",
              "    }\n",
              "\n",
              "    .dataframe tbody tr th {\n",
              "        vertical-align: top;\n",
              "    }\n",
              "\n",
              "    .dataframe thead th {\n",
              "        text-align: right;\n",
              "    }\n",
              "</style>\n",
              "<table border=\"1\" class=\"dataframe\">\n",
              "  <thead>\n",
              "    <tr style=\"text-align: right;\">\n",
              "      <th></th>\n",
              "      <th>date</th>\n",
              "      <th>average_price</th>\n",
              "      <th>total_volume</th>\n",
              "      <th>4046</th>\n",
              "      <th>4225</th>\n",
              "      <th>4770</th>\n",
              "      <th>total_bags</th>\n",
              "      <th>small_bags</th>\n",
              "      <th>large_bags</th>\n",
              "      <th>xlarge_bags</th>\n",
              "      <th>type</th>\n",
              "      <th>year</th>\n",
              "      <th>geography</th>\n",
              "    </tr>\n",
              "  </thead>\n",
              "  <tbody>\n",
              "    <tr>\n",
              "      <th>0</th>\n",
              "      <td>1.420330e+09</td>\n",
              "      <td>1.22</td>\n",
              "      <td>40873.28</td>\n",
              "      <td>2819.50</td>\n",
              "      <td>28287.42</td>\n",
              "      <td>49.90</td>\n",
              "      <td>9716.46</td>\n",
              "      <td>9186.93</td>\n",
              "      <td>529.53</td>\n",
              "      <td>0.0</td>\n",
              "      <td>1</td>\n",
              "      <td>2015</td>\n",
              "      <td>Albany</td>\n",
              "    </tr>\n",
              "    <tr>\n",
              "      <th>1</th>\n",
              "      <td>1.420330e+09</td>\n",
              "      <td>1.79</td>\n",
              "      <td>1373.95</td>\n",
              "      <td>57.42</td>\n",
              "      <td>153.88</td>\n",
              "      <td>0.00</td>\n",
              "      <td>1162.65</td>\n",
              "      <td>1162.65</td>\n",
              "      <td>0.00</td>\n",
              "      <td>0.0</td>\n",
              "      <td>0</td>\n",
              "      <td>2015</td>\n",
              "      <td>Albany</td>\n",
              "    </tr>\n",
              "    <tr>\n",
              "      <th>2</th>\n",
              "      <td>1.420330e+09</td>\n",
              "      <td>1.00</td>\n",
              "      <td>435021.49</td>\n",
              "      <td>364302.39</td>\n",
              "      <td>23821.16</td>\n",
              "      <td>82.15</td>\n",
              "      <td>46815.79</td>\n",
              "      <td>16707.15</td>\n",
              "      <td>30108.64</td>\n",
              "      <td>0.0</td>\n",
              "      <td>1</td>\n",
              "      <td>2015</td>\n",
              "      <td>Atlanta</td>\n",
              "    </tr>\n",
              "    <tr>\n",
              "      <th>3</th>\n",
              "      <td>1.420330e+09</td>\n",
              "      <td>1.76</td>\n",
              "      <td>3846.69</td>\n",
              "      <td>1500.15</td>\n",
              "      <td>938.35</td>\n",
              "      <td>0.00</td>\n",
              "      <td>1408.19</td>\n",
              "      <td>1071.35</td>\n",
              "      <td>336.84</td>\n",
              "      <td>0.0</td>\n",
              "      <td>0</td>\n",
              "      <td>2015</td>\n",
              "      <td>Atlanta</td>\n",
              "    </tr>\n",
              "    <tr>\n",
              "      <th>4</th>\n",
              "      <td>1.420330e+09</td>\n",
              "      <td>1.08</td>\n",
              "      <td>788025.06</td>\n",
              "      <td>53987.31</td>\n",
              "      <td>552906.04</td>\n",
              "      <td>39995.03</td>\n",
              "      <td>141136.68</td>\n",
              "      <td>137146.07</td>\n",
              "      <td>3990.61</td>\n",
              "      <td>0.0</td>\n",
              "      <td>1</td>\n",
              "      <td>2015</td>\n",
              "      <td>Baltimore/Washington</td>\n",
              "    </tr>\n",
              "  </tbody>\n",
              "</table>\n",
              "</div>"
            ],
            "text/plain": [
              "           date  average_price  total_volume       4046       4225      4770  \\\n",
              "0  1.420330e+09           1.22      40873.28    2819.50   28287.42     49.90   \n",
              "1  1.420330e+09           1.79       1373.95      57.42     153.88      0.00   \n",
              "2  1.420330e+09           1.00     435021.49  364302.39   23821.16     82.15   \n",
              "3  1.420330e+09           1.76       3846.69    1500.15     938.35      0.00   \n",
              "4  1.420330e+09           1.08     788025.06   53987.31  552906.04  39995.03   \n",
              "\n",
              "   total_bags  small_bags  large_bags  xlarge_bags type  year  \\\n",
              "0     9716.46     9186.93      529.53          0.0    1  2015   \n",
              "1     1162.65     1162.65        0.00          0.0    0  2015   \n",
              "2    46815.79    16707.15    30108.64          0.0    1  2015   \n",
              "3     1408.19     1071.35      336.84          0.0    0  2015   \n",
              "4   141136.68   137146.07     3990.61          0.0    1  2015   \n",
              "\n",
              "              geography  \n",
              "0                Albany  \n",
              "1                Albany  \n",
              "2               Atlanta  \n",
              "3               Atlanta  \n",
              "4  Baltimore/Washington  "
            ]
          },
          "metadata": {
            "tags": []
          },
          "execution_count": 42
        }
      ]
    },
    {
      "cell_type": "code",
      "metadata": {
        "id": "sSKvwPtLgY6-",
        "outputId": "e6be04df-f0a6-44e8-ed8c-9f418f8801f9"
      },
      "source": [
        "#Determine the pairwise correlation of all columns in the dataframe\n",
        "df.corr()"
      ],
      "execution_count": null,
      "outputs": [
        {
          "output_type": "execute_result",
          "data": {
            "text/html": [
              "<div>\n",
              "<style scoped>\n",
              "    .dataframe tbody tr th:only-of-type {\n",
              "        vertical-align: middle;\n",
              "    }\n",
              "\n",
              "    .dataframe tbody tr th {\n",
              "        vertical-align: top;\n",
              "    }\n",
              "\n",
              "    .dataframe thead th {\n",
              "        text-align: right;\n",
              "    }\n",
              "</style>\n",
              "<table border=\"1\" class=\"dataframe\">\n",
              "  <thead>\n",
              "    <tr style=\"text-align: right;\">\n",
              "      <th></th>\n",
              "      <th>date</th>\n",
              "      <th>average_price</th>\n",
              "      <th>total_volume</th>\n",
              "      <th>4046</th>\n",
              "      <th>4225</th>\n",
              "      <th>4770</th>\n",
              "      <th>total_bags</th>\n",
              "      <th>small_bags</th>\n",
              "      <th>large_bags</th>\n",
              "      <th>xlarge_bags</th>\n",
              "      <th>year</th>\n",
              "    </tr>\n",
              "  </thead>\n",
              "  <tbody>\n",
              "    <tr>\n",
              "      <th>date</th>\n",
              "      <td>1.000000</td>\n",
              "      <td>0.007209</td>\n",
              "      <td>0.064048</td>\n",
              "      <td>0.008159</td>\n",
              "      <td>-0.037174</td>\n",
              "      <td>-0.079336</td>\n",
              "      <td>0.191532</td>\n",
              "      <td>0.138829</td>\n",
              "      <td>0.250811</td>\n",
              "      <td>0.110910</td>\n",
              "      <td>0.983096</td>\n",
              "    </tr>\n",
              "    <tr>\n",
              "      <th>average_price</th>\n",
              "      <td>0.007209</td>\n",
              "      <td>1.000000</td>\n",
              "      <td>-0.367108</td>\n",
              "      <td>-0.394493</td>\n",
              "      <td>-0.236825</td>\n",
              "      <td>-0.221692</td>\n",
              "      <td>-0.320674</td>\n",
              "      <td>-0.290327</td>\n",
              "      <td>-0.289736</td>\n",
              "      <td>-0.097017</td>\n",
              "      <td>-0.018717</td>\n",
              "    </tr>\n",
              "    <tr>\n",
              "      <th>total_volume</th>\n",
              "      <td>0.064048</td>\n",
              "      <td>-0.367108</td>\n",
              "      <td>1.000000</td>\n",
              "      <td>0.854867</td>\n",
              "      <td>0.810187</td>\n",
              "      <td>0.583307</td>\n",
              "      <td>0.918736</td>\n",
              "      <td>0.914781</td>\n",
              "      <td>0.595513</td>\n",
              "      <td>0.432915</td>\n",
              "      <td>0.073683</td>\n",
              "    </tr>\n",
              "    <tr>\n",
              "      <th>4046</th>\n",
              "      <td>0.008159</td>\n",
              "      <td>-0.394493</td>\n",
              "      <td>0.854867</td>\n",
              "      <td>1.000000</td>\n",
              "      <td>0.478765</td>\n",
              "      <td>0.469403</td>\n",
              "      <td>0.746130</td>\n",
              "      <td>0.741807</td>\n",
              "      <td>0.482636</td>\n",
              "      <td>0.373831</td>\n",
              "      <td>0.017201</td>\n",
              "    </tr>\n",
              "    <tr>\n",
              "      <th>4225</th>\n",
              "      <td>-0.037174</td>\n",
              "      <td>-0.236825</td>\n",
              "      <td>0.810187</td>\n",
              "      <td>0.478765</td>\n",
              "      <td>1.000000</td>\n",
              "      <td>0.503169</td>\n",
              "      <td>0.617224</td>\n",
              "      <td>0.651492</td>\n",
              "      <td>0.331359</td>\n",
              "      <td>0.150045</td>\n",
              "      <td>-0.028609</td>\n",
              "    </tr>\n",
              "    <tr>\n",
              "      <th>4770</th>\n",
              "      <td>-0.079336</td>\n",
              "      <td>-0.221692</td>\n",
              "      <td>0.583307</td>\n",
              "      <td>0.469403</td>\n",
              "      <td>0.503169</td>\n",
              "      <td>1.000000</td>\n",
              "      <td>0.471223</td>\n",
              "      <td>0.493765</td>\n",
              "      <td>0.211007</td>\n",
              "      <td>0.414866</td>\n",
              "      <td>-0.072373</td>\n",
              "    </tr>\n",
              "    <tr>\n",
              "      <th>total_bags</th>\n",
              "      <td>0.191532</td>\n",
              "      <td>-0.320674</td>\n",
              "      <td>0.918736</td>\n",
              "      <td>0.746130</td>\n",
              "      <td>0.617224</td>\n",
              "      <td>0.471223</td>\n",
              "      <td>1.000000</td>\n",
              "      <td>0.960833</td>\n",
              "      <td>0.720374</td>\n",
              "      <td>0.561148</td>\n",
              "      <td>0.198858</td>\n",
              "    </tr>\n",
              "    <tr>\n",
              "      <th>small_bags</th>\n",
              "      <td>0.138829</td>\n",
              "      <td>-0.290327</td>\n",
              "      <td>0.914781</td>\n",
              "      <td>0.741807</td>\n",
              "      <td>0.651492</td>\n",
              "      <td>0.493765</td>\n",
              "      <td>0.960833</td>\n",
              "      <td>1.000000</td>\n",
              "      <td>0.503891</td>\n",
              "      <td>0.513035</td>\n",
              "      <td>0.145715</td>\n",
              "    </tr>\n",
              "    <tr>\n",
              "      <th>large_bags</th>\n",
              "      <td>0.250811</td>\n",
              "      <td>-0.289736</td>\n",
              "      <td>0.595513</td>\n",
              "      <td>0.482636</td>\n",
              "      <td>0.331359</td>\n",
              "      <td>0.211007</td>\n",
              "      <td>0.720374</td>\n",
              "      <td>0.503891</td>\n",
              "      <td>1.000000</td>\n",
              "      <td>0.353346</td>\n",
              "      <td>0.257108</td>\n",
              "    </tr>\n",
              "    <tr>\n",
              "      <th>xlarge_bags</th>\n",
              "      <td>0.110910</td>\n",
              "      <td>-0.097017</td>\n",
              "      <td>0.432915</td>\n",
              "      <td>0.373831</td>\n",
              "      <td>0.150045</td>\n",
              "      <td>0.414866</td>\n",
              "      <td>0.561148</td>\n",
              "      <td>0.513035</td>\n",
              "      <td>0.353346</td>\n",
              "      <td>1.000000</td>\n",
              "      <td>0.111276</td>\n",
              "    </tr>\n",
              "    <tr>\n",
              "      <th>year</th>\n",
              "      <td>0.983096</td>\n",
              "      <td>-0.018717</td>\n",
              "      <td>0.073683</td>\n",
              "      <td>0.017201</td>\n",
              "      <td>-0.028609</td>\n",
              "      <td>-0.072373</td>\n",
              "      <td>0.198858</td>\n",
              "      <td>0.145715</td>\n",
              "      <td>0.257108</td>\n",
              "      <td>0.111276</td>\n",
              "      <td>1.000000</td>\n",
              "    </tr>\n",
              "  </tbody>\n",
              "</table>\n",
              "</div>"
            ],
            "text/plain": [
              "                   date  average_price  total_volume      4046      4225  \\\n",
              "date           1.000000       0.007209      0.064048  0.008159 -0.037174   \n",
              "average_price  0.007209       1.000000     -0.367108 -0.394493 -0.236825   \n",
              "total_volume   0.064048      -0.367108      1.000000  0.854867  0.810187   \n",
              "4046           0.008159      -0.394493      0.854867  1.000000  0.478765   \n",
              "4225          -0.037174      -0.236825      0.810187  0.478765  1.000000   \n",
              "4770          -0.079336      -0.221692      0.583307  0.469403  0.503169   \n",
              "total_bags     0.191532      -0.320674      0.918736  0.746130  0.617224   \n",
              "small_bags     0.138829      -0.290327      0.914781  0.741807  0.651492   \n",
              "large_bags     0.250811      -0.289736      0.595513  0.482636  0.331359   \n",
              "xlarge_bags    0.110910      -0.097017      0.432915  0.373831  0.150045   \n",
              "year           0.983096      -0.018717      0.073683  0.017201 -0.028609   \n",
              "\n",
              "                   4770  total_bags  small_bags  large_bags  xlarge_bags  \\\n",
              "date          -0.079336    0.191532    0.138829    0.250811     0.110910   \n",
              "average_price -0.221692   -0.320674   -0.290327   -0.289736    -0.097017   \n",
              "total_volume   0.583307    0.918736    0.914781    0.595513     0.432915   \n",
              "4046           0.469403    0.746130    0.741807    0.482636     0.373831   \n",
              "4225           0.503169    0.617224    0.651492    0.331359     0.150045   \n",
              "4770           1.000000    0.471223    0.493765    0.211007     0.414866   \n",
              "total_bags     0.471223    1.000000    0.960833    0.720374     0.561148   \n",
              "small_bags     0.493765    0.960833    1.000000    0.503891     0.513035   \n",
              "large_bags     0.211007    0.720374    0.503891    1.000000     0.353346   \n",
              "xlarge_bags    0.414866    0.561148    0.513035    0.353346     1.000000   \n",
              "year          -0.072373    0.198858    0.145715    0.257108     0.111276   \n",
              "\n",
              "                   year  \n",
              "date           0.983096  \n",
              "average_price -0.018717  \n",
              "total_volume   0.073683  \n",
              "4046           0.017201  \n",
              "4225          -0.028609  \n",
              "4770          -0.072373  \n",
              "total_bags     0.198858  \n",
              "small_bags     0.145715  \n",
              "large_bags     0.257108  \n",
              "xlarge_bags    0.111276  \n",
              "year           1.000000  "
            ]
          },
          "metadata": {
            "tags": []
          },
          "execution_count": 43
        }
      ]
    },
    {
      "cell_type": "code",
      "metadata": {
        "id": "nEyj3zP3gY6_",
        "outputId": "2f624325-f474-42a9-b12c-ec4573229d9c"
      },
      "source": [
        "#Plot the relationships in a heat map to visualize the degree of relatedness.\n",
        "plt.subplots(figsize=(8, 5))\n",
        "sns.heatmap(df.corr(), annot=True, cmap=\"RdYlGn\")\n",
        "plt.show()"
      ],
      "execution_count": null,
      "outputs": [
        {
          "output_type": "display_data",
          "data": {
            "image/png": "[encoded data removed]",
            "text/plain": [
              "<Figure size 576x360 with 2 Axes>"
            ]
          },
          "metadata": {
            "tags": [],
            "needs_background": "light"
          }
        }
      ]
    },
    {
      "cell_type": "markdown",
      "metadata": {
        "id": "vNR8tQyQgY6_"
      },
      "source": [
        " ## Preprocess the dataset"
      ]
    },
    {
      "cell_type": "code",
      "metadata": {
        "id": "cw13RpkngY6_",
        "outputId": "79af5fab-14a0-4738-b41e-a93c3914ca75"
      },
      "source": [
        "#Encode the catagorical columns for use in the ml model\n",
        "le = LabelEncoder()\n",
        "df['geography'] = le.fit_transform(df['geography'])\n",
        "df"
      ],
      "execution_count": null,
      "outputs": [
        {
          "output_type": "execute_result",
          "data": {
            "text/html": [
              "<div>\n",
              "<style scoped>\n",
              "    .dataframe tbody tr th:only-of-type {\n",
              "        vertical-align: middle;\n",
              "    }\n",
              "\n",
              "    .dataframe tbody tr th {\n",
              "        vertical-align: top;\n",
              "    }\n",
              "\n",
              "    .dataframe thead th {\n",
              "        text-align: right;\n",
              "    }\n",
              "</style>\n",
              "<table border=\"1\" class=\"dataframe\">\n",
              "  <thead>\n",
              "    <tr style=\"text-align: right;\">\n",
              "      <th></th>\n",
              "      <th>date</th>\n",
              "      <th>average_price</th>\n",
              "      <th>total_volume</th>\n",
              "      <th>4046</th>\n",
              "      <th>4225</th>\n",
              "      <th>4770</th>\n",
              "      <th>total_bags</th>\n",
              "      <th>small_bags</th>\n",
              "      <th>large_bags</th>\n",
              "      <th>xlarge_bags</th>\n",
              "      <th>type</th>\n",
              "      <th>year</th>\n",
              "      <th>geography</th>\n",
              "    </tr>\n",
              "  </thead>\n",
              "  <tbody>\n",
              "    <tr>\n",
              "      <th>0</th>\n",
              "      <td>1.420330e+09</td>\n",
              "      <td>1.22</td>\n",
              "      <td>40873.28</td>\n",
              "      <td>2819.50</td>\n",
              "      <td>28287.42</td>\n",
              "      <td>49.90</td>\n",
              "      <td>9716.46</td>\n",
              "      <td>9186.93</td>\n",
              "      <td>529.53</td>\n",
              "      <td>0.00</td>\n",
              "      <td>1</td>\n",
              "      <td>2015</td>\n",
              "      <td>0</td>\n",
              "    </tr>\n",
              "    <tr>\n",
              "      <th>1</th>\n",
              "      <td>1.420330e+09</td>\n",
              "      <td>1.79</td>\n",
              "      <td>1373.95</td>\n",
              "      <td>57.42</td>\n",
              "      <td>153.88</td>\n",
              "      <td>0.00</td>\n",
              "      <td>1162.65</td>\n",
              "      <td>1162.65</td>\n",
              "      <td>0.00</td>\n",
              "      <td>0.00</td>\n",
              "      <td>0</td>\n",
              "      <td>2015</td>\n",
              "      <td>0</td>\n",
              "    </tr>\n",
              "    <tr>\n",
              "      <th>2</th>\n",
              "      <td>1.420330e+09</td>\n",
              "      <td>1.00</td>\n",
              "      <td>435021.49</td>\n",
              "      <td>364302.39</td>\n",
              "      <td>23821.16</td>\n",
              "      <td>82.15</td>\n",
              "      <td>46815.79</td>\n",
              "      <td>16707.15</td>\n",
              "      <td>30108.64</td>\n",
              "      <td>0.00</td>\n",
              "      <td>1</td>\n",
              "      <td>2015</td>\n",
              "      <td>1</td>\n",
              "    </tr>\n",
              "    <tr>\n",
              "      <th>3</th>\n",
              "      <td>1.420330e+09</td>\n",
              "      <td>1.76</td>\n",
              "      <td>3846.69</td>\n",
              "      <td>1500.15</td>\n",
              "      <td>938.35</td>\n",
              "      <td>0.00</td>\n",
              "      <td>1408.19</td>\n",
              "      <td>1071.35</td>\n",
              "      <td>336.84</td>\n",
              "      <td>0.00</td>\n",
              "      <td>0</td>\n",
              "      <td>2015</td>\n",
              "      <td>1</td>\n",
              "    </tr>\n",
              "    <tr>\n",
              "      <th>4</th>\n",
              "      <td>1.420330e+09</td>\n",
              "      <td>1.08</td>\n",
              "      <td>788025.06</td>\n",
              "      <td>53987.31</td>\n",
              "      <td>552906.04</td>\n",
              "      <td>39995.03</td>\n",
              "      <td>141136.68</td>\n",
              "      <td>137146.07</td>\n",
              "      <td>3990.61</td>\n",
              "      <td>0.00</td>\n",
              "      <td>1</td>\n",
              "      <td>2015</td>\n",
              "      <td>2</td>\n",
              "    </tr>\n",
              "    <tr>\n",
              "      <th>...</th>\n",
              "      <td>...</td>\n",
              "      <td>...</td>\n",
              "      <td>...</td>\n",
              "      <td>...</td>\n",
              "      <td>...</td>\n",
              "      <td>...</td>\n",
              "      <td>...</td>\n",
              "      <td>...</td>\n",
              "      <td>...</td>\n",
              "      <td>...</td>\n",
              "      <td>...</td>\n",
              "      <td>...</td>\n",
              "      <td>...</td>\n",
              "    </tr>\n",
              "    <tr>\n",
              "      <th>30010</th>\n",
              "      <td>1.589674e+09</td>\n",
              "      <td>2.02</td>\n",
              "      <td>8478.00</td>\n",
              "      <td>1536.00</td>\n",
              "      <td>1468.00</td>\n",
              "      <td>0.00</td>\n",
              "      <td>5473.00</td>\n",
              "      <td>3373.00</td>\n",
              "      <td>2100.00</td>\n",
              "      <td>0.00</td>\n",
              "      <td>0</td>\n",
              "      <td>2020</td>\n",
              "      <td>36</td>\n",
              "    </tr>\n",
              "    <tr>\n",
              "      <th>30011</th>\n",
              "      <td>1.589674e+09</td>\n",
              "      <td>1.31</td>\n",
              "      <td>117231.76</td>\n",
              "      <td>12121.98</td>\n",
              "      <td>47634.53</td>\n",
              "      <td>941.62</td>\n",
              "      <td>56533.63</td>\n",
              "      <td>44340.34</td>\n",
              "      <td>10544.39</td>\n",
              "      <td>1648.90</td>\n",
              "      <td>1</td>\n",
              "      <td>2020</td>\n",
              "      <td>37</td>\n",
              "    </tr>\n",
              "    <tr>\n",
              "      <th>30012</th>\n",
              "      <td>1.589674e+09</td>\n",
              "      <td>1.63</td>\n",
              "      <td>1798.00</td>\n",
              "      <td>249.00</td>\n",
              "      <td>143.00</td>\n",
              "      <td>0.00</td>\n",
              "      <td>1407.00</td>\n",
              "      <td>1111.00</td>\n",
              "      <td>295.00</td>\n",
              "      <td>0.00</td>\n",
              "      <td>0</td>\n",
              "      <td>2020</td>\n",
              "      <td>37</td>\n",
              "    </tr>\n",
              "    <tr>\n",
              "      <th>30019</th>\n",
              "      <td>1.589674e+09</td>\n",
              "      <td>0.89</td>\n",
              "      <td>1240709.05</td>\n",
              "      <td>430203.10</td>\n",
              "      <td>126497.28</td>\n",
              "      <td>21104.42</td>\n",
              "      <td>662904.25</td>\n",
              "      <td>395909.35</td>\n",
              "      <td>265177.09</td>\n",
              "      <td>1817.81</td>\n",
              "      <td>1</td>\n",
              "      <td>2020</td>\n",
              "      <td>38</td>\n",
              "    </tr>\n",
              "    <tr>\n",
              "      <th>30020</th>\n",
              "      <td>1.589674e+09</td>\n",
              "      <td>1.58</td>\n",
              "      <td>36881.00</td>\n",
              "      <td>1147.00</td>\n",
              "      <td>1243.00</td>\n",
              "      <td>2645.00</td>\n",
              "      <td>31846.00</td>\n",
              "      <td>25621.00</td>\n",
              "      <td>6225.00</td>\n",
              "      <td>0.00</td>\n",
              "      <td>0</td>\n",
              "      <td>2020</td>\n",
              "      <td>38</td>\n",
              "    </tr>\n",
              "  </tbody>\n",
              "</table>\n",
              "<p>21681 rows × 13 columns</p>\n",
              "</div>"
            ],
            "text/plain": [
              "               date  average_price  total_volume       4046       4225  \\\n",
              "0      1.420330e+09           1.22      40873.28    2819.50   28287.42   \n",
              "1      1.420330e+09           1.79       1373.95      57.42     153.88   \n",
              "2      1.420330e+09           1.00     435021.49  364302.39   23821.16   \n",
              "3      1.420330e+09           1.76       3846.69    1500.15     938.35   \n",
              "4      1.420330e+09           1.08     788025.06   53987.31  552906.04   \n",
              "...             ...            ...           ...        ...        ...   \n",
              "30010  1.589674e+09           2.02       8478.00    1536.00    1468.00   \n",
              "30011  1.589674e+09           1.31     117231.76   12121.98   47634.53   \n",
              "30012  1.589674e+09           1.63       1798.00     249.00     143.00   \n",
              "30019  1.589674e+09           0.89    1240709.05  430203.10  126497.28   \n",
              "30020  1.589674e+09           1.58      36881.00    1147.00    1243.00   \n",
              "\n",
              "           4770  total_bags  small_bags  large_bags  xlarge_bags type  year  \\\n",
              "0         49.90     9716.46     9186.93      529.53         0.00    1  2015   \n",
              "1          0.00     1162.65     1162.65        0.00         0.00    0  2015   \n",
              "2         82.15    46815.79    16707.15    30108.64         0.00    1  2015   \n",
              "3          0.00     1408.19     1071.35      336.84         0.00    0  2015   \n",
              "4      39995.03   141136.68   137146.07     3990.61         0.00    1  2015   \n",
              "...         ...         ...         ...         ...          ...  ...   ...   \n",
              "30010      0.00     5473.00     3373.00     2100.00         0.00    0  2020   \n",
              "30011    941.62    56533.63    44340.34    10544.39      1648.90    1  2020   \n",
              "30012      0.00     1407.00     1111.00      295.00         0.00    0  2020   \n",
              "30019  21104.42   662904.25   395909.35   265177.09      1817.81    1  2020   \n",
              "30020   2645.00    31846.00    25621.00     6225.00         0.00    0  2020   \n",
              "\n",
              "       geography  \n",
              "0              0  \n",
              "1              0  \n",
              "2              1  \n",
              "3              1  \n",
              "4              2  \n",
              "...          ...  \n",
              "30010         36  \n",
              "30011         37  \n",
              "30012         37  \n",
              "30019         38  \n",
              "30020         38  \n",
              "\n",
              "[21681 rows x 13 columns]"
            ]
          },
          "metadata": {
            "tags": []
          },
          "execution_count": 45
        }
      ]
    },
    {
      "cell_type": "code",
      "metadata": {
        "id": "UhoKHVOOgY6_",
        "outputId": "011485ba-f3d3-4a17-cb28-44475af39710"
      },
      "source": [
        "le = LabelEncoder()\n",
        "df['type'] = le.fit_transform(df['type'])\n",
        "df"
      ],
      "execution_count": null,
      "outputs": [
        {
          "output_type": "execute_result",
          "data": {
            "text/html": [
              "<div>\n",
              "<style scoped>\n",
              "    .dataframe tbody tr th:only-of-type {\n",
              "        vertical-align: middle;\n",
              "    }\n",
              "\n",
              "    .dataframe tbody tr th {\n",
              "        vertical-align: top;\n",
              "    }\n",
              "\n",
              "    .dataframe thead th {\n",
              "        text-align: right;\n",
              "    }\n",
              "</style>\n",
              "<table border=\"1\" class=\"dataframe\">\n",
              "  <thead>\n",
              "    <tr style=\"text-align: right;\">\n",
              "      <th></th>\n",
              "      <th>date</th>\n",
              "      <th>average_price</th>\n",
              "      <th>total_volume</th>\n",
              "      <th>4046</th>\n",
              "      <th>4225</th>\n",
              "      <th>4770</th>\n",
              "      <th>total_bags</th>\n",
              "      <th>small_bags</th>\n",
              "      <th>large_bags</th>\n",
              "      <th>xlarge_bags</th>\n",
              "      <th>type</th>\n",
              "      <th>year</th>\n",
              "      <th>geography</th>\n",
              "    </tr>\n",
              "  </thead>\n",
              "  <tbody>\n",
              "    <tr>\n",
              "      <th>0</th>\n",
              "      <td>1.420330e+09</td>\n",
              "      <td>1.22</td>\n",
              "      <td>40873.28</td>\n",
              "      <td>2819.50</td>\n",
              "      <td>28287.42</td>\n",
              "      <td>49.90</td>\n",
              "      <td>9716.46</td>\n",
              "      <td>9186.93</td>\n",
              "      <td>529.53</td>\n",
              "      <td>0.00</td>\n",
              "      <td>1</td>\n",
              "      <td>2015</td>\n",
              "      <td>0</td>\n",
              "    </tr>\n",
              "    <tr>\n",
              "      <th>1</th>\n",
              "      <td>1.420330e+09</td>\n",
              "      <td>1.79</td>\n",
              "      <td>1373.95</td>\n",
              "      <td>57.42</td>\n",
              "      <td>153.88</td>\n",
              "      <td>0.00</td>\n",
              "      <td>1162.65</td>\n",
              "      <td>1162.65</td>\n",
              "      <td>0.00</td>\n",
              "      <td>0.00</td>\n",
              "      <td>0</td>\n",
              "      <td>2015</td>\n",
              "      <td>0</td>\n",
              "    </tr>\n",
              "    <tr>\n",
              "      <th>2</th>\n",
              "      <td>1.420330e+09</td>\n",
              "      <td>1.00</td>\n",
              "      <td>435021.49</td>\n",
              "      <td>364302.39</td>\n",
              "      <td>23821.16</td>\n",
              "      <td>82.15</td>\n",
              "      <td>46815.79</td>\n",
              "      <td>16707.15</td>\n",
              "      <td>30108.64</td>\n",
              "      <td>0.00</td>\n",
              "      <td>1</td>\n",
              "      <td>2015</td>\n",
              "      <td>1</td>\n",
              "    </tr>\n",
              "    <tr>\n",
              "      <th>3</th>\n",
              "      <td>1.420330e+09</td>\n",
              "      <td>1.76</td>\n",
              "      <td>3846.69</td>\n",
              "      <td>1500.15</td>\n",
              "      <td>938.35</td>\n",
              "      <td>0.00</td>\n",
              "      <td>1408.19</td>\n",
              "      <td>1071.35</td>\n",
              "      <td>336.84</td>\n",
              "      <td>0.00</td>\n",
              "      <td>0</td>\n",
              "      <td>2015</td>\n",
              "      <td>1</td>\n",
              "    </tr>\n",
              "    <tr>\n",
              "      <th>4</th>\n",
              "      <td>1.420330e+09</td>\n",
              "      <td>1.08</td>\n",
              "      <td>788025.06</td>\n",
              "      <td>53987.31</td>\n",
              "      <td>552906.04</td>\n",
              "      <td>39995.03</td>\n",
              "      <td>141136.68</td>\n",
              "      <td>137146.07</td>\n",
              "      <td>3990.61</td>\n",
              "      <td>0.00</td>\n",
              "      <td>1</td>\n",
              "      <td>2015</td>\n",
              "      <td>2</td>\n",
              "    </tr>\n",
              "    <tr>\n",
              "      <th>...</th>\n",
              "      <td>...</td>\n",
              "      <td>...</td>\n",
              "      <td>...</td>\n",
              "      <td>...</td>\n",
              "      <td>...</td>\n",
              "      <td>...</td>\n",
              "      <td>...</td>\n",
              "      <td>...</td>\n",
              "      <td>...</td>\n",
              "      <td>...</td>\n",
              "      <td>...</td>\n",
              "      <td>...</td>\n",
              "      <td>...</td>\n",
              "    </tr>\n",
              "    <tr>\n",
              "      <th>30010</th>\n",
              "      <td>1.589674e+09</td>\n",
              "      <td>2.02</td>\n",
              "      <td>8478.00</td>\n",
              "      <td>1536.00</td>\n",
              "      <td>1468.00</td>\n",
              "      <td>0.00</td>\n",
              "      <td>5473.00</td>\n",
              "      <td>3373.00</td>\n",
              "      <td>2100.00</td>\n",
              "      <td>0.00</td>\n",
              "      <td>0</td>\n",
              "      <td>2020</td>\n",
              "      <td>36</td>\n",
              "    </tr>\n",
              "    <tr>\n",
              "      <th>30011</th>\n",
              "      <td>1.589674e+09</td>\n",
              "      <td>1.31</td>\n",
              "      <td>117231.76</td>\n",
              "      <td>12121.98</td>\n",
              "      <td>47634.53</td>\n",
              "      <td>941.62</td>\n",
              "      <td>56533.63</td>\n",
              "      <td>44340.34</td>\n",
              "      <td>10544.39</td>\n",
              "      <td>1648.90</td>\n",
              "      <td>1</td>\n",
              "      <td>2020</td>\n",
              "      <td>37</td>\n",
              "    </tr>\n",
              "    <tr>\n",
              "      <th>30012</th>\n",
              "      <td>1.589674e+09</td>\n",
              "      <td>1.63</td>\n",
              "      <td>1798.00</td>\n",
              "      <td>249.00</td>\n",
              "      <td>143.00</td>\n",
              "      <td>0.00</td>\n",
              "      <td>1407.00</td>\n",
              "      <td>1111.00</td>\n",
              "      <td>295.00</td>\n",
              "      <td>0.00</td>\n",
              "      <td>0</td>\n",
              "      <td>2020</td>\n",
              "      <td>37</td>\n",
              "    </tr>\n",
              "    <tr>\n",
              "      <th>30019</th>\n",
              "      <td>1.589674e+09</td>\n",
              "      <td>0.89</td>\n",
              "      <td>1240709.05</td>\n",
              "      <td>430203.10</td>\n",
              "      <td>126497.28</td>\n",
              "      <td>21104.42</td>\n",
              "      <td>662904.25</td>\n",
              "      <td>395909.35</td>\n",
              "      <td>265177.09</td>\n",
              "      <td>1817.81</td>\n",
              "      <td>1</td>\n",
              "      <td>2020</td>\n",
              "      <td>38</td>\n",
              "    </tr>\n",
              "    <tr>\n",
              "      <th>30020</th>\n",
              "      <td>1.589674e+09</td>\n",
              "      <td>1.58</td>\n",
              "      <td>36881.00</td>\n",
              "      <td>1147.00</td>\n",
              "      <td>1243.00</td>\n",
              "      <td>2645.00</td>\n",
              "      <td>31846.00</td>\n",
              "      <td>25621.00</td>\n",
              "      <td>6225.00</td>\n",
              "      <td>0.00</td>\n",
              "      <td>0</td>\n",
              "      <td>2020</td>\n",
              "      <td>38</td>\n",
              "    </tr>\n",
              "  </tbody>\n",
              "</table>\n",
              "<p>21681 rows × 13 columns</p>\n",
              "</div>"
            ],
            "text/plain": [
              "               date  average_price  total_volume       4046       4225  \\\n",
              "0      1.420330e+09           1.22      40873.28    2819.50   28287.42   \n",
              "1      1.420330e+09           1.79       1373.95      57.42     153.88   \n",
              "2      1.420330e+09           1.00     435021.49  364302.39   23821.16   \n",
              "3      1.420330e+09           1.76       3846.69    1500.15     938.35   \n",
              "4      1.420330e+09           1.08     788025.06   53987.31  552906.04   \n",
              "...             ...            ...           ...        ...        ...   \n",
              "30010  1.589674e+09           2.02       8478.00    1536.00    1468.00   \n",
              "30011  1.589674e+09           1.31     117231.76   12121.98   47634.53   \n",
              "30012  1.589674e+09           1.63       1798.00     249.00     143.00   \n",
              "30019  1.589674e+09           0.89    1240709.05  430203.10  126497.28   \n",
              "30020  1.589674e+09           1.58      36881.00    1147.00    1243.00   \n",
              "\n",
              "           4770  total_bags  small_bags  large_bags  xlarge_bags  type  year  \\\n",
              "0         49.90     9716.46     9186.93      529.53         0.00     1  2015   \n",
              "1          0.00     1162.65     1162.65        0.00         0.00     0  2015   \n",
              "2         82.15    46815.79    16707.15    30108.64         0.00     1  2015   \n",
              "3          0.00     1408.19     1071.35      336.84         0.00     0  2015   \n",
              "4      39995.03   141136.68   137146.07     3990.61         0.00     1  2015   \n",
              "...         ...         ...         ...         ...          ...   ...   ...   \n",
              "30010      0.00     5473.00     3373.00     2100.00         0.00     0  2020   \n",
              "30011    941.62    56533.63    44340.34    10544.39      1648.90     1  2020   \n",
              "30012      0.00     1407.00     1111.00      295.00         0.00     0  2020   \n",
              "30019  21104.42   662904.25   395909.35   265177.09      1817.81     1  2020   \n",
              "30020   2645.00    31846.00    25621.00     6225.00         0.00     0  2020   \n",
              "\n",
              "       geography  \n",
              "0              0  \n",
              "1              0  \n",
              "2              1  \n",
              "3              1  \n",
              "4              2  \n",
              "...          ...  \n",
              "30010         36  \n",
              "30011         37  \n",
              "30012         37  \n",
              "30019         38  \n",
              "30020         38  \n",
              "\n",
              "[21681 rows x 13 columns]"
            ]
          },
          "metadata": {
            "tags": []
          },
          "execution_count": 46
        }
      ]
    },
    {
      "cell_type": "markdown",
      "metadata": {
        "id": "8dao2SQygY7A"
      },
      "source": [
        "## Scale and split the data"
      ]
    },
    {
      "cell_type": "code",
      "metadata": {
        "id": "p04T_Z9OgY7A"
      },
      "source": [
        "from sklearn.preprocessing import StandardScaler\n",
        "# create an object of the StandardScaler\n",
        "scaler = StandardScaler()\n",
        "# fit with the Item_MRP\n",
        "scaler.fit(np.array(df.geography).reshape(-1,1))\n",
        "# transform the data\n",
        "df.geography = scaler.transform(np.array(df.geography).reshape(-1,1))"
      ],
      "execution_count": null,
      "outputs": []
    },
    {
      "cell_type": "code",
      "metadata": {
        "id": "WPtzLzHAgY7B"
      },
      "source": [
        "# importing libraries\n",
        "from sklearn.linear_model import LinearRegression\n",
        "from sklearn.ensemble import  RandomForestRegressor\n",
        "from sklearn.model_selection import train_test_split\n",
        "from sklearn.metrics import mean_squared_error"
      ],
      "execution_count": null,
      "outputs": []
    },
    {
      "cell_type": "code",
      "metadata": {
        "id": "OvE6uOO0gY7B",
        "outputId": "8c71e8bd-50c4-466c-c419-3d42c7421429"
      },
      "source": [
        " # separate the independent and target variable \n",
        "X_train = df.drop(columns=['geography'])\n",
        "Y_train = df['geography']\n",
        "\n",
        " # randomly split the data\n",
        "x_train, x_test, y_train, y_test = train_test_split(X_train, Y_train, test_size=0.25,random_state=0)\n",
        "\n",
        "# # shape of train and test splits\n",
        "x_train.shape, x_test.shape, y_train.shape, y_test.shape"
      ],
      "execution_count": null,
      "outputs": [
        {
          "output_type": "execute_result",
          "data": {
            "text/plain": [
              "((16260, 12), (5421, 12), (16260,), (5421,))"
            ]
          },
          "metadata": {
            "tags": []
          },
          "execution_count": 49
        }
      ]
    },
    {
      "cell_type": "markdown",
      "metadata": {
        "id": "vkniz6LagY7B"
      },
      "source": [
        "## Create two machine learning model pipelines to determine which will provide the best prediction for a U.S. location to begin the marketing trials. The models are: Linear Regression and Random Forest Regression."
      ]
    },
    {
      "cell_type": "markdown",
      "metadata": {
        "id": "blgwf7aLgY7B"
      },
      "source": [
        "## Linear Regression Model with root mean squared error"
      ]
    },
    {
      "cell_type": "markdown",
      "metadata": {
        "id": "vNudvCCagY7C"
      },
      "source": [
        "### Root mean squared error is  the measure of how well a regression line fits the data points"
      ]
    },
    {
      "cell_type": "code",
      "metadata": {
        "id": "tuNR1zo9gY7C",
        "outputId": "1d024e91-c3c7-4b8b-8f4c-969551326afe"
      },
      "source": [
        "# create an object of the LinearRegression Model\n",
        "model_LR = LinearRegression()\n",
        "\n",
        "# fit the model with the training data\n",
        "model_LR.fit(x_train, y_train)\n",
        "\n",
        "# predict the target on train and test data \n",
        "y_pred = model_LR.predict(x_train)\n",
        "x_pred  = model_LR.predict(x_test)\n",
        "\n",
        "# Root Mean Squared Error on train and test date\n",
        "print('RMSE on train data: ', mean_squared_error(y_train, y_pred)**(0.5))\n",
        "print('RMSE on test data: ',  mean_squared_error(y_test, x_pred)**(0.5))"
      ],
      "execution_count": null,
      "outputs": [
        {
          "output_type": "stream",
          "text": [
            "RMSE on train data:  0.984303274976897\n",
            "RMSE on test data:  0.995118248925634\n"
          ],
          "name": "stdout"
        }
      ]
    },
    {
      "cell_type": "code",
      "metadata": {
        "id": "H_sapcUogY7C",
        "outputId": "481ffa76-b519-4782-f7fe-32affc42504a"
      },
      "source": [
        "from sklearn import metrics\n",
        "print(metrics.mean_absolute_error(y_test, y_pred))\n",
        "print(metrics.mean_squared_error(y_true, x_pred))\n",
        "printnp.sqrt(metrics.mean_squared_error(y_true, y_pred))"
      ],
      "execution_count": null,
      "outputs": [
        {
          "output_type": "error",
          "ename": "ValueError",
          "evalue": "Found input variables with inconsistent numbers of samples: [5421, 16260]",
          "traceback": [
            "\u001b[1;31m---------------------------------------------------------------------------\u001b[0m",
            "\u001b[1;31mValueError\u001b[0m                                Traceback (most recent call last)",
            "\u001b[1;32m<ipython-input-344-b67d951134da>\u001b[0m in \u001b[0;36m<module>\u001b[1;34m\u001b[0m\n\u001b[0;32m      1\u001b[0m \u001b[1;32mfrom\u001b[0m \u001b[0msklearn\u001b[0m \u001b[1;32mimport\u001b[0m \u001b[0mmetrics\u001b[0m\u001b[1;33m\u001b[0m\u001b[1;33m\u001b[0m\u001b[0m\n\u001b[1;32m----> 2\u001b[1;33m \u001b[0mprint\u001b[0m\u001b[1;33m(\u001b[0m\u001b[0mmetrics\u001b[0m\u001b[1;33m.\u001b[0m\u001b[0mmean_absolute_error\u001b[0m\u001b[1;33m(\u001b[0m\u001b[0my_test\u001b[0m\u001b[1;33m,\u001b[0m \u001b[0my_pred\u001b[0m\u001b[1;33m)\u001b[0m\u001b[1;33m)\u001b[0m\u001b[1;33m\u001b[0m\u001b[1;33m\u001b[0m\u001b[0m\n\u001b[0m\u001b[0;32m      3\u001b[0m \u001b[0mprint\u001b[0m\u001b[1;33m(\u001b[0m\u001b[0mmetrics\u001b[0m\u001b[1;33m.\u001b[0m\u001b[0mmean_squared_error\u001b[0m\u001b[1;33m(\u001b[0m\u001b[0my_true\u001b[0m\u001b[1;33m,\u001b[0m \u001b[0mx_pred\u001b[0m\u001b[1;33m)\u001b[0m\u001b[1;33m)\u001b[0m\u001b[1;33m\u001b[0m\u001b[1;33m\u001b[0m\u001b[0m\n\u001b[0;32m      4\u001b[0m \u001b[0mprintnp\u001b[0m\u001b[1;33m.\u001b[0m\u001b[0msqrt\u001b[0m\u001b[1;33m(\u001b[0m\u001b[0mmetrics\u001b[0m\u001b[1;33m.\u001b[0m\u001b[0mmean_squared_error\u001b[0m\u001b[1;33m(\u001b[0m\u001b[0my_true\u001b[0m\u001b[1;33m,\u001b[0m \u001b[0my_pred\u001b[0m\u001b[1;33m)\u001b[0m\u001b[1;33m)\u001b[0m\u001b[1;33m\u001b[0m\u001b[1;33m\u001b[0m\u001b[0m\n",
            "\u001b[1;32m~\\anaconda3\\envs\\PythonData\\lib\\site-packages\\sklearn\\utils\\validation.py\u001b[0m in \u001b[0;36minner_f\u001b[1;34m(*args, **kwargs)\u001b[0m\n\u001b[0;32m     70\u001b[0m                           FutureWarning)\n\u001b[0;32m     71\u001b[0m         \u001b[0mkwargs\u001b[0m\u001b[1;33m.\u001b[0m\u001b[0mupdate\u001b[0m\u001b[1;33m(\u001b[0m\u001b[1;33m{\u001b[0m\u001b[0mk\u001b[0m\u001b[1;33m:\u001b[0m \u001b[0marg\u001b[0m \u001b[1;32mfor\u001b[0m \u001b[0mk\u001b[0m\u001b[1;33m,\u001b[0m \u001b[0marg\u001b[0m \u001b[1;32min\u001b[0m \u001b[0mzip\u001b[0m\u001b[1;33m(\u001b[0m\u001b[0msig\u001b[0m\u001b[1;33m.\u001b[0m\u001b[0mparameters\u001b[0m\u001b[1;33m,\u001b[0m \u001b[0margs\u001b[0m\u001b[1;33m)\u001b[0m\u001b[1;33m}\u001b[0m\u001b[1;33m)\u001b[0m\u001b[1;33m\u001b[0m\u001b[1;33m\u001b[0m\u001b[0m\n\u001b[1;32m---> 72\u001b[1;33m         \u001b[1;32mreturn\u001b[0m \u001b[0mf\u001b[0m\u001b[1;33m(\u001b[0m\u001b[1;33m**\u001b[0m\u001b[0mkwargs\u001b[0m\u001b[1;33m)\u001b[0m\u001b[1;33m\u001b[0m\u001b[1;33m\u001b[0m\u001b[0m\n\u001b[0m\u001b[0;32m     73\u001b[0m     \u001b[1;32mreturn\u001b[0m \u001b[0minner_f\u001b[0m\u001b[1;33m\u001b[0m\u001b[1;33m\u001b[0m\u001b[0m\n\u001b[0;32m     74\u001b[0m \u001b[1;33m\u001b[0m\u001b[0m\n",
            "\u001b[1;32m~\\anaconda3\\envs\\PythonData\\lib\\site-packages\\sklearn\\metrics\\_regression.py\u001b[0m in \u001b[0;36mmean_absolute_error\u001b[1;34m(y_true, y_pred, sample_weight, multioutput)\u001b[0m\n\u001b[0;32m    177\u001b[0m     \"\"\"\n\u001b[0;32m    178\u001b[0m     y_type, y_true, y_pred, multioutput = _check_reg_targets(\n\u001b[1;32m--> 179\u001b[1;33m         y_true, y_pred, multioutput)\n\u001b[0m\u001b[0;32m    180\u001b[0m     \u001b[0mcheck_consistent_length\u001b[0m\u001b[1;33m(\u001b[0m\u001b[0my_true\u001b[0m\u001b[1;33m,\u001b[0m \u001b[0my_pred\u001b[0m\u001b[1;33m,\u001b[0m \u001b[0msample_weight\u001b[0m\u001b[1;33m)\u001b[0m\u001b[1;33m\u001b[0m\u001b[1;33m\u001b[0m\u001b[0m\n\u001b[0;32m    181\u001b[0m     output_errors = np.average(np.abs(y_pred - y_true),\n",
            "\u001b[1;32m~\\anaconda3\\envs\\PythonData\\lib\\site-packages\\sklearn\\metrics\\_regression.py\u001b[0m in \u001b[0;36m_check_reg_targets\u001b[1;34m(y_true, y_pred, multioutput, dtype)\u001b[0m\n\u001b[0;32m     82\u001b[0m \u001b[1;33m\u001b[0m\u001b[0m\n\u001b[0;32m     83\u001b[0m     \"\"\"\n\u001b[1;32m---> 84\u001b[1;33m     \u001b[0mcheck_consistent_length\u001b[0m\u001b[1;33m(\u001b[0m\u001b[0my_true\u001b[0m\u001b[1;33m,\u001b[0m \u001b[0my_pred\u001b[0m\u001b[1;33m)\u001b[0m\u001b[1;33m\u001b[0m\u001b[1;33m\u001b[0m\u001b[0m\n\u001b[0m\u001b[0;32m     85\u001b[0m     \u001b[0my_true\u001b[0m \u001b[1;33m=\u001b[0m \u001b[0mcheck_array\u001b[0m\u001b[1;33m(\u001b[0m\u001b[0my_true\u001b[0m\u001b[1;33m,\u001b[0m \u001b[0mensure_2d\u001b[0m\u001b[1;33m=\u001b[0m\u001b[1;32mFalse\u001b[0m\u001b[1;33m,\u001b[0m \u001b[0mdtype\u001b[0m\u001b[1;33m=\u001b[0m\u001b[0mdtype\u001b[0m\u001b[1;33m)\u001b[0m\u001b[1;33m\u001b[0m\u001b[1;33m\u001b[0m\u001b[0m\n\u001b[0;32m     86\u001b[0m     \u001b[0my_pred\u001b[0m \u001b[1;33m=\u001b[0m \u001b[0mcheck_array\u001b[0m\u001b[1;33m(\u001b[0m\u001b[0my_pred\u001b[0m\u001b[1;33m,\u001b[0m \u001b[0mensure_2d\u001b[0m\u001b[1;33m=\u001b[0m\u001b[1;32mFalse\u001b[0m\u001b[1;33m,\u001b[0m \u001b[0mdtype\u001b[0m\u001b[1;33m=\u001b[0m\u001b[0mdtype\u001b[0m\u001b[1;33m)\u001b[0m\u001b[1;33m\u001b[0m\u001b[1;33m\u001b[0m\u001b[0m\n",
            "\u001b[1;32m~\\anaconda3\\envs\\PythonData\\lib\\site-packages\\sklearn\\utils\\validation.py\u001b[0m in \u001b[0;36mcheck_consistent_length\u001b[1;34m(*arrays)\u001b[0m\n\u001b[0;32m    254\u001b[0m     \u001b[1;32mif\u001b[0m \u001b[0mlen\u001b[0m\u001b[1;33m(\u001b[0m\u001b[0muniques\u001b[0m\u001b[1;33m)\u001b[0m \u001b[1;33m>\u001b[0m \u001b[1;36m1\u001b[0m\u001b[1;33m:\u001b[0m\u001b[1;33m\u001b[0m\u001b[1;33m\u001b[0m\u001b[0m\n\u001b[0;32m    255\u001b[0m         raise ValueError(\"Found input variables with inconsistent numbers of\"\n\u001b[1;32m--> 256\u001b[1;33m                          \" samples: %r\" % [int(l) for l in lengths])\n\u001b[0m\u001b[0;32m    257\u001b[0m \u001b[1;33m\u001b[0m\u001b[0m\n\u001b[0;32m    258\u001b[0m \u001b[1;33m\u001b[0m\u001b[0m\n",
            "\u001b[1;31mValueError\u001b[0m: Found input variables with inconsistent numbers of samples: [5421, 16260]"
          ]
        }
      ]
    },
    {
      "cell_type": "markdown",
      "metadata": {
        "id": "wvaNF_zvgY7D"
      },
      "source": [
        "## Random Forest Regression Model with root mean squared error"
      ]
    },
    {
      "cell_type": "code",
      "metadata": {
        "id": "Sxny3FtygY7D",
        "outputId": "86e0fc65-8697-4a8e-ab39-de61f0432160"
      },
      "source": [
        "# create an object of the RandomForestRegressor\n",
        "model_RFR = RandomForestRegressor(max_depth=3)\n",
        "\n",
        "# fit the model with the training data\n",
        "model_RFR.fit(train_x, train_y)\n",
        "\n",
        "# predict the target on train and test data\n",
        "predict_train = model_RFR.predict(train_x)\n",
        "predict_test = model_RFR.predict(test_x)\n",
        "\n",
        "# Root Mean Squared Error on train and test data\n",
        "print('RMSE on train data: ', mean_squared_error(train_y, predict_train)**(0.5))\n",
        "print('RMSE on test data: ',  mean_squared_error(test_y, predict_test)**(0.5))"
      ],
      "execution_count": null,
      "outputs": [
        {
          "output_type": "stream",
          "text": [
            "RMSE on train data:  0.9296310002075869\n",
            "RMSE on test data:  0.9388250541281964\n"
          ],
          "name": "stdout"
        }
      ]
    },
    {
      "cell_type": "code",
      "metadata": {
        "id": "NiuWMYbdgY7E",
        "outputId": "ff405bf5-cf18-4bdd-e1e4-f00c7c4d5988"
      },
      "source": [
        "# plot the 6 most important features \n",
        "plt.figure(figsize=(10,6))\n",
        "feat_importances = pd.Series(model_RFR.feature_importances_, index = train_x.columns)\n",
        "feat_importances.nlargest(6).plot(kind='barh');"
      ],
      "execution_count": null,
      "outputs": [
        {
          "output_type": "display_data",
          "data": {
            "image/png": "[encoded data removed]",
            "text/plain": [
              "<Figure size 720x432 with 1 Axes>"
            ]
          },
          "metadata": {
            "tags": [],
            "needs_background": "light"
          }
        }
      ]
    },
    {
      "cell_type": "code",
      "metadata": {
        "id": "Uv2f0PeBgY7E",
        "outputId": "63f1da6f-6f79-4092-c534-26218dbbefed"
      },
      "source": [
        "# training data with 7 most important features\n",
        "train_x_if = train_x[['average_price',\n",
        "                    'total_volume',\n",
        "                    'large_bags',\n",
        "                    '4770',\n",
        "                    '4046',\n",
        "                    '4225']]\n",
        "# test data with 7 most important features\n",
        "test_x_if = test_x[['average_price',\n",
        "                    'total_volume',\n",
        "                    'large_bags',\n",
        "                    '4770',\n",
        "                    '4046',\n",
        "                    '4225']]\n",
        "\n",
        "# create an object of the RandfomForestRegressor Model\n",
        "model_RFR_with_if = RandomForestRegressor(max_depth=10,random_state=2)\n",
        "\n",
        "# fit the model with the training data\n",
        "model_RFR_with_if.fit(train_x_if, train_y)\n",
        "\n",
        "# predict the target on the training and test data\n",
        "predict_train_with_if = model_RFR_with_if.predict(train_x_if)\n",
        "predict_test_with_if = model_RFR_with_if.predict(test_x_if)\n",
        "\n",
        "# Root Mean Squared Error on the train and test data\n",
        "print('RMSE on train data: ', mean_squared_error(train_y, predict_train_with_if)**(0.5))\n",
        "print('RMSE on test data: ',  mean_squared_error(test_y, predict_test_with_if)**(0.5))"
      ],
      "execution_count": null,
      "outputs": [
        {
          "output_type": "stream",
          "text": [
            "RMSE on train data:  0.5762940049189809\n",
            "RMSE on test data:  0.6489143856262758\n"
          ],
          "name": "stdout"
        }
      ]
    },
    {
      "cell_type": "markdown",
      "metadata": {
        "id": "q_0heZgrgY7F"
      },
      "source": [
        "## Random Forest Classifier"
      ]
    },
    {
      "cell_type": "code",
      "metadata": {
        "id": "45G5BWdygY7F"
      },
      "source": [
        "#RandomForest model \n",
        "from sklearn.ensemble import RandomForestClassifier\n",
        "pm = RandomForestClassifier(random_state=0)"
      ],
      "execution_count": null,
      "outputs": []
    },
    {
      "cell_type": "code",
      "metadata": {
        "id": "R-Z9tyLYgY7F",
        "outputId": "c106feb5-993e-4d08-9ea4-d69d48408f1f"
      },
      "source": [
        "pm.fit(X_train,y_train)\n",
        "y_tr1=pm.predict(X_train)\n",
        "y_pr=pm.predict(X_test)\n",
        "\n",
        "print('train data accuracy :',pm.score(X_train,y_train))\n",
        "print('test data accuracy :',pm.score(X_test,y_test))\n",
        "print('loss of train data :',mean_squared_error(y_train,y_tr1))\n",
        "print('loss of test data :',mean_squared_error(y_test,y_pr))"
      ],
      "execution_count": null,
      "outputs": [
        {
          "output_type": "stream",
          "text": [
            "train data accuracy : 0.028198260824128796\n",
            "test data accuracy : 0.020248330651116087\n",
            "loss of train data : 123.07757381795476\n",
            "loss of test data : 124.03668518899758\n"
          ],
          "name": "stdout"
        }
      ]
    },
    {
      "cell_type": "code",
      "metadata": {
        "id": "UoMED6kigY7G"
      },
      "source": [
        ""
      ],
      "execution_count": null,
      "outputs": []
    }
  ]
}