# Import dependencies
import pandas as pd
from pathlib import Path
import matplotlib.pyplot as plt
from sklearn.linear_model import LinearRegression

## Read in the dataset from wherever it is located
data = 'avacado-updates-2020.csv'
df = pd.read_csv(data)
df.head()

# Format the independent variable in the model
X = df['type'].values.reshape(-1, 1)

# Print the shape
print(X.shape)

# return a label
X[:10]

