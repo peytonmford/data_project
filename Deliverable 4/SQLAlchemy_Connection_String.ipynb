{
  "nbformat": 4,
  "nbformat_minor": 0,
  "metadata": {
    "colab": {
      "name": "SQLAlchemy Connection String",
      "provenance": []
    },
    "kernelspec": {
      "name": "python3",
      "display_name": "Python 3"
    }
  },
  "cells": [
    {
      "cell_type": "code",
      "metadata": {
        "id": "18PfTcqmtIQ1"
      },
      "source": [
        "from sqlalchemy import create_engine, inspect, text\n",
        "import psycopg2\n",
        "engine = psycopg2.connect(\n",
        "    database=\"avocado_final\",\n",
        "    user=\"postgres\",\n",
        "    password=\"ngoc2mna12\",\n",
        "    host=\"database-finalavocado.ce3rvilzockn.us-east-2.rds.amazonaws.com\",\n",
        "    port='5432'\n",
        ")\n",
        "\n",
        "\n",
        "db = create_engine(db_string)\n",
        "\n"
      ],
      "execution_count": 8,
      "outputs": []
    }
  ]
}