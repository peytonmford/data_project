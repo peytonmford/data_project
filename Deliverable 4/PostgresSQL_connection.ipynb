{
  "nbformat": 4,
  "nbformat_minor": 0,
  "metadata": {
    "colab": {
      "name": "PostgresSQL connection",
      "provenance": []
    },
    "kernelspec": {
      "name": "python3",
      "display_name": "Python 3"
    }
  },
  "cells": [
    {
      "cell_type": "code",
      "metadata": {
        "colab": {
          "base_uri": "https://localhost:8080/"
        },
        "id": "LVpszZDf7ES4",
        "outputId": "566f942c-138e-4638-e9b1-b478b7260cd9"
      },
      "source": [
        "import os\n",
        "# Find the latest version of spark 3.0  from http://www-us.apache.org/dist/spark/ and enter as the spark version\n",
        "# For example:\n",
        "# spark_version = 'spark-3.0.1'\n",
        "spark_version = 'spark-3.0.1'\n",
        "os.environ['SPARK_VERSION']=spark_version\n",
        "\n",
        "# Install Spark and Java\n",
        "!apt-get update\n",
        "!apt-get install openjdk-11-jdk-headless -qq > /dev/null\n",
        "!wget -q http://www-us.apache.org/dist/spark/$SPARK_VERSION/$SPARK_VERSION-bin-hadoop2.7.tgz\n",
        "!tar xf $SPARK_VERSION-bin-hadoop2.7.tgz\n",
        "!pip install -q findspark\n",
        "\n",
        "# Set Environment Variables\n",
        "import os\n",
        "os.environ[\"JAVA_HOME\"] = \"/usr/lib/jvm/java-11-openjdk-amd64\"\n",
        "os.environ[\"SPARK_HOME\"] = f\"/content/{spark_version}-bin-hadoop2.7\"\n",
        "\n",
        "# Start a SparkSession\n",
        "import findspark\n",
        "findspark.init()"
      ],
      "execution_count": 10,
      "outputs": [
        {
          "output_type": "stream",
          "text": [
            "Ign:1 https://developer.download.nvidia.com/compute/cuda/repos/ubuntu1804/x86_64  InRelease\n",
            "Get:2 https://cloud.r-project.org/bin/linux/ubuntu bionic-cran40/ InRelease [3,626 B]\n",
            "Get:3 http://security.ubuntu.com/ubuntu bionic-security InRelease [88.7 kB]\n",
            "Get:4 http://ppa.launchpad.net/c2d4u.team/c2d4u4.0+/ubuntu bionic InRelease [15.9 kB]\n",
            "Ign:5 https://developer.download.nvidia.com/compute/machine-learning/repos/ubuntu1804/x86_64  InRelease\n",
            "Get:6 https://developer.download.nvidia.com/compute/cuda/repos/ubuntu1804/x86_64  Release [697 B]\n",
            "Hit:7 https://developer.download.nvidia.com/compute/machine-learning/repos/ubuntu1804/x86_64  Release\n",
            "Get:8 https://developer.download.nvidia.com/compute/cuda/repos/ubuntu1804/x86_64  Release.gpg [836 B]\n",
            "Hit:9 http://archive.ubuntu.com/ubuntu bionic InRelease\n",
            "Get:10 http://archive.ubuntu.com/ubuntu bionic-updates InRelease [88.7 kB]\n",
            "Hit:11 http://ppa.launchpad.net/cran/libgit2/ubuntu bionic InRelease\n",
            "Get:12 http://ppa.launchpad.net/graphics-drivers/ppa/ubuntu bionic InRelease [21.3 kB]\n",
            "Get:13 http://archive.ubuntu.com/ubuntu bionic-backports InRelease [74.6 kB]\n",
            "Ign:15 https://developer.download.nvidia.com/compute/cuda/repos/ubuntu1804/x86_64  Packages\n",
            "Get:15 https://developer.download.nvidia.com/compute/cuda/repos/ubuntu1804/x86_64  Packages [549 kB]\n",
            "Get:16 http://ppa.launchpad.net/c2d4u.team/c2d4u4.0+/ubuntu bionic/main Sources [1,718 kB]\n",
            "Get:17 http://security.ubuntu.com/ubuntu bionic-security/universe amd64 Packages [1,383 kB]\n",
            "Get:18 http://archive.ubuntu.com/ubuntu bionic-updates/main amd64 Packages [2,332 kB]\n",
            "Get:19 http://security.ubuntu.com/ubuntu bionic-security/restricted amd64 Packages [288 kB]\n",
            "Get:20 http://security.ubuntu.com/ubuntu bionic-security/main amd64 Packages [1,901 kB]\n",
            "Get:21 http://ppa.launchpad.net/c2d4u.team/c2d4u4.0+/ubuntu bionic/main amd64 Packages [879 kB]\n",
            "Get:22 http://archive.ubuntu.com/ubuntu bionic-updates/multiverse amd64 Packages [42.7 kB]\n",
            "Get:23 http://archive.ubuntu.com/ubuntu bionic-updates/restricted amd64 Packages [318 kB]\n",
            "Get:24 http://archive.ubuntu.com/ubuntu bionic-updates/universe amd64 Packages [2,153 kB]\n",
            "Get:25 http://ppa.launchpad.net/graphics-drivers/ppa/ubuntu bionic/main amd64 Packages [49.2 kB]\n",
            "Fetched 11.9 MB in 3s (3,630 kB/s)\n",
            "Reading package lists... Done\n"
          ],
          "name": "stdout"
        }
      ]
    },
    {
      "cell_type": "code",
      "metadata": {
        "colab": {
          "base_uri": "https://localhost:8080/"
        },
        "id": "cRsJaxlJOFoW",
        "outputId": "cd484310-7abb-45e5-97fc-bed0ced8c368"
      },
      "source": [
        "!wget https://jdbc.postgresql.org/download/postgresql-42.2.16.jar"
      ],
      "execution_count": 11,
      "outputs": [
        {
          "output_type": "stream",
          "text": [
            "--2021-01-28 04:20:15--  https://jdbc.postgresql.org/download/postgresql-42.2.16.jar\n",
            "Resolving jdbc.postgresql.org (jdbc.postgresql.org)... 72.32.157.228, 2001:4800:3e1:1::228\n",
            "Connecting to jdbc.postgresql.org (jdbc.postgresql.org)|72.32.157.228|:443... connected.\n",
            "HTTP request sent, awaiting response... 200 OK\n",
            "Length: 1002883 (979K) [application/java-archive]\n",
            "Saving to: ‘postgresql-42.2.16.jar’\n",
            "\n",
            "postgresql-42.2.16. 100%[===================>] 979.38K  --.-KB/s    in 0.1s    \n",
            "\n",
            "2021-01-28 04:20:16 (6.55 MB/s) - ‘postgresql-42.2.16.jar’ saved [1002883/1002883]\n",
            "\n"
          ],
          "name": "stdout"
        }
      ]
    },
    {
      "cell_type": "code",
      "metadata": {
        "id": "--yY5iuoOLNi"
      },
      "source": [
        "from pyspark.sql import SparkSession\n",
        "spark = SparkSession.builder.appName(\"CloudETL\").config(\"spark.driver.extraClassPath\",\"/content/postgresql-42.2.16.jar\").getOrCreate()"
      ],
      "execution_count": 13,
      "outputs": []
    },
    {
      "cell_type": "code",
      "metadata": {
        "id": "k8bIe1v7OjNC"
      },
      "source": [
        "# Read in data from S3 Buckets\n",
        "from pyspark import SparkFiles\n",
        "url =\"https://tanianguyenavocado-bucket.s3.amazonaws.com/avocado-updated-2020.csv\"\n",
        "spark.sparkContext.addFile(url)\n",
        "avocado_data_df = spark.read.csv(SparkFiles.get(\"avocado-updated-2020.csv\"), sep=\",\", header=True, inferSchema=True)"
      ],
      "execution_count": 16,
      "outputs": []
    },
    {
      "cell_type": "code",
      "metadata": {
        "colab": {
          "base_uri": "https://localhost:8080/"
        },
        "id": "YlWJDlRaO2_D",
        "outputId": "9b2aad0a-f7bd-4fcd-feef-b99e3263b33c"
      },
      "source": [
        "# Show DataFrame\n",
        "avocado_data_df.show()"
      ],
      "execution_count": 17,
      "outputs": [
        {
          "output_type": "stream",
          "text": [
            "+--------+-------------+------------+----------+----------+---------+----------+----------+----------+-----------+------------+----+--------------------+\n",
            "|    date|average_price|total_volume|      4046|      4225|     4770|total_bags|small_bags|large_bags|xlarge_bags|        type|year|           geography|\n",
            "+--------+-------------+------------+----------+----------+---------+----------+----------+----------+-----------+------------+----+--------------------+\n",
            "|1/4/2015|         1.22|    40873.28|    2819.5|  28287.42|     49.9|   9716.46|   9186.93|    529.53|        0.0|conventional|2015|              Albany|\n",
            "|1/4/2015|         1.79|     1373.95|     57.42|    153.88|      0.0|   1162.65|   1162.65|       0.0|        0.0|     organic|2015|              Albany|\n",
            "|1/4/2015|          1.0|   435021.49| 364302.39|  23821.16|    82.15|  46815.79|  16707.15|  30108.64|        0.0|conventional|2015|             Atlanta|\n",
            "|1/4/2015|         1.76|     3846.69|   1500.15|    938.35|      0.0|   1408.19|   1071.35|    336.84|        0.0|     organic|2015|             Atlanta|\n",
            "|1/4/2015|         1.08|   788025.06|  53987.31| 552906.04| 39995.03| 141136.68| 137146.07|   3990.61|        0.0|conventional|2015|Baltimore/Washington|\n",
            "|1/4/2015|         1.29|    19137.28|   8040.64|   6557.47|   657.48|   3881.69|   3881.69|       0.0|        0.0|     organic|2015|Baltimore/Washington|\n",
            "|1/4/2015|         1.01|    80034.32|  44562.12|  24964.23|  2752.35|   7755.62|    6064.3|   1691.32|        0.0|conventional|2015|               Boise|\n",
            "|1/4/2015|         1.64|     1505.12|      1.27|    1129.5|      0.0|    374.35|    186.67|    187.68|        0.0|     organic|2015|               Boise|\n",
            "|1/4/2015|         1.02|    491738.0|   7193.87| 396752.18|   128.82|  87663.13|  87406.84|    256.29|        0.0|conventional|2015|              Boston|\n",
            "|1/4/2015|         1.83|     2192.13|      8.66|    939.43|      0.0|   1244.04|   1244.04|       0.0|        0.0|     organic|2015|              Boston|\n",
            "|1/4/2015|          1.4|   116253.44|   3267.97|  55693.04|   109.55|  57182.88|  57182.88|       0.0|        0.0|conventional|2015|   Buffalo/Rochester|\n",
            "|1/4/2015|         1.73|      379.82|       0.0|     59.82|      0.0|     320.0|     320.0|       0.0|        0.0|     organic|2015|   Buffalo/Rochester|\n",
            "|1/4/2015|         0.93|   5777334.9|2843648.26|2267755.26|137479.64| 528451.74| 477193.38|  47882.56|     3375.8|conventional|2015|          California|\n",
            "|1/4/2015|         1.24|   142349.77| 107490.73|  25711.96|     2.93|   9144.15|   9144.15|       0.0|        0.0|     organic|2015|          California|\n",
            "|1/4/2015|         1.19|   166006.29|  29419.03|  47220.75| 38568.95|  50797.56|  44329.03|   6468.53|        0.0|conventional|2015|           Charlotte|\n",
            "|1/4/2015|         2.13|     2965.62|     151.7|    882.52|   905.77|   1025.63|   1025.63|       0.0|        0.0|     organic|2015|           Charlotte|\n",
            "|1/4/2015|         1.11|   783068.03|  30270.26| 550752.19| 124506.1|  77539.48|  72888.46|   4651.02|        0.0|conventional|2015|             Chicago|\n",
            "|1/4/2015|         1.49|    17723.17|   1189.35|  15628.27|      0.0|    905.55|    905.55|       0.0|        0.0|     organic|2015|             Chicago|\n",
            "|1/4/2015|         0.88|   228569.58|    3274.3| 168764.78|  1447.06|  55083.44|  17525.31|  37445.46|     112.67|conventional|2015|   Cincinnati/Dayton|\n",
            "|1/4/2015|         1.34|     8764.33|    144.47|   6921.75|      0.0|   1698.11|    585.96|   1112.15|        0.0|     organic|2015|   Cincinnati/Dayton|\n",
            "+--------+-------------+------------+----------+----------+---------+----------+----------+----------+-----------+------------+----+--------------------+\n",
            "only showing top 20 rows\n",
            "\n"
          ],
          "name": "stdout"
        }
      ]
    },
    {
      "cell_type": "code",
      "metadata": {
        "id": "okY4Rod1P9W8"
      },
      "source": [
        "# Read in data from S3 Buckets\n",
        "from pyspark import SparkFiles\n",
        "url =\"https://tanianguyenavocado-bucket.s3.amazonaws.com/avocado_table.csv\"\n",
        "spark.sparkContext.addFile(url)\n",
        "avocado_df = spark.read.csv(SparkFiles.get(\"avocado_table.csv\"), sep=\",\", header=True, inferSchema=True)"
      ],
      "execution_count": 64,
      "outputs": []
    },
    {
      "cell_type": "code",
      "metadata": {
        "colab": {
          "base_uri": "https://localhost:8080/"
        },
        "id": "sg9ynNDbQX0f",
        "outputId": "5e455b6c-4f77-418a-b352-0dc8a9a974ae"
      },
      "source": [
        "# Show DataFrame\n",
        "avocado_df.show()"
      ],
      "execution_count": 65,
      "outputs": [
        {
          "output_type": "stream",
          "text": [
            "+------------+-------------+----------+----+------------+\n",
            "|        type|average_price|   on_date|year|total_volume|\n",
            "+------------+-------------+----------+----+------------+\n",
            "|conventional|         1.22|2015-01-04|2015|    40873.28|\n",
            "|     organic|         1.79|2015-01-04|2015|     1373.95|\n",
            "|conventional|          1.0|2015-01-04|2015|   435021.49|\n",
            "|     organic|         1.76|2015-01-04|2015|     3846.69|\n",
            "|conventional|         1.08|2015-01-04|2015|   788025.06|\n",
            "|     organic|         1.29|2015-01-04|2015|    19137.28|\n",
            "|conventional|         1.01|2015-01-04|2015|    80034.32|\n",
            "|     organic|         1.64|2015-01-04|2015|     1505.12|\n",
            "|conventional|         1.02|2015-01-04|2015|    491738.0|\n",
            "|     organic|         1.83|2015-01-04|2015|     2192.13|\n",
            "|conventional|          1.4|2015-01-04|2015|   116253.44|\n",
            "|     organic|         1.73|2015-01-04|2015|      379.82|\n",
            "|conventional|         0.93|2015-01-04|2015|   5777334.9|\n",
            "|     organic|         1.24|2015-01-04|2015|   142349.77|\n",
            "|conventional|         1.19|2015-01-04|2015|   166006.29|\n",
            "|     organic|         2.13|2015-01-04|2015|     2965.62|\n",
            "|conventional|         1.11|2015-01-04|2015|   783068.03|\n",
            "|     organic|         1.49|2015-01-04|2015|    17723.17|\n",
            "|conventional|         0.88|2015-01-04|2015|   228569.58|\n",
            "|     organic|         1.34|2015-01-04|2015|     8764.33|\n",
            "+------------+-------------+----------+----+------------+\n",
            "only showing top 20 rows\n",
            "\n"
          ],
          "name": "stdout"
        }
      ]
    },
    {
      "cell_type": "code",
      "metadata": {
        "id": "jiibOZ28P84U"
      },
      "source": [
        "# Read in data from S3 Buckets\n",
        "from pyspark import SparkFiles\n",
        "url =\"https://tanianguyenavocado-bucket.s3.amazonaws.com/plu_table.csv\"\n",
        "spark.sparkContext.addFile(url)\n",
        "plu_data_df = spark.read.csv(SparkFiles.get(\"plu_table.csv\"), sep=\",\", header=True, inferSchema=True)"
      ],
      "execution_count": 29,
      "outputs": []
    },
    {
      "cell_type": "code",
      "metadata": {
        "colab": {
          "base_uri": "https://localhost:8080/"
        },
        "id": "blIIbpdtQn9e",
        "outputId": "9e8622d8-45c9-4d64-d5dd-f153d962301b"
      },
      "source": [
        "# Show DataFrame\n",
        "plu_data_df.show()"
      ],
      "execution_count": 30,
      "outputs": [
        {
          "output_type": "stream",
          "text": [
            "+-------------+----------+----------+---------+--------------------+\n",
            "|average_price|  plu_4046|  plu_4225| plu_4770|           geography|\n",
            "+-------------+----------+----------+---------+--------------------+\n",
            "|         1.22|    2819.5|  28287.42|     49.9|              Albany|\n",
            "|         1.79|     57.42|    153.88|      0.0|              Albany|\n",
            "|          1.0| 364302.39|  23821.16|    82.15|             Atlanta|\n",
            "|         1.76|   1500.15|    938.35|      0.0|             Atlanta|\n",
            "|         1.08|  53987.31| 552906.04| 39995.03|Baltimore/Washington|\n",
            "|         1.29|   8040.64|   6557.47|   657.48|Baltimore/Washington|\n",
            "|         1.01|  44562.12|  24964.23|  2752.35|               Boise|\n",
            "|         1.64|      1.27|    1129.5|      0.0|               Boise|\n",
            "|         1.02|   7193.87| 396752.18|   128.82|              Boston|\n",
            "|         1.83|      8.66|    939.43|      0.0|              Boston|\n",
            "|          1.4|   3267.97|  55693.04|   109.55|   Buffalo/Rochester|\n",
            "|         1.73|       0.0|     59.82|      0.0|   Buffalo/Rochester|\n",
            "|         0.93|2843648.26|2267755.26|137479.64|          California|\n",
            "|         1.24| 107490.73|  25711.96|     2.93|          California|\n",
            "|         1.19|  29419.03|  47220.75| 38568.95|           Charlotte|\n",
            "|         2.13|     151.7|    882.52|   905.77|           Charlotte|\n",
            "|         1.11|  30270.26| 550752.19| 124506.1|             Chicago|\n",
            "|         1.49|   1189.35|  15628.27|      0.0|             Chicago|\n",
            "|         0.88|    3274.3| 168764.78|  1447.06|   Cincinnati/Dayton|\n",
            "|         1.34|    144.47|   6921.75|      0.0|   Cincinnati/Dayton|\n",
            "+-------------+----------+----------+---------+--------------------+\n",
            "only showing top 20 rows\n",
            "\n"
          ],
          "name": "stdout"
        }
      ]
    },
    {
      "cell_type": "code",
      "metadata": {
        "id": "4Myyxet0Qx_p"
      },
      "source": [
        "# Read in data from S3 Buckets\n",
        "from pyspark import SparkFiles\n",
        "url =\"https://tanianguyenavocado-bucket.s3.amazonaws.com/size_table.csv\"\n",
        "spark.sparkContext.addFile(url)\n",
        "size_data_df = spark.read.csv(SparkFiles.get(\"size_table.csv\"), sep=\",\", header=True, inferSchema=True)"
      ],
      "execution_count": 31,
      "outputs": []
    },
    {
      "cell_type": "code",
      "metadata": {
        "colab": {
          "base_uri": "https://localhost:8080/"
        },
        "id": "udRKCF88Q46r",
        "outputId": "c84ff74f-0d49-491e-9ded-decea3968a27"
      },
      "source": [
        "# Show DataFrame\n",
        "size_data_df.show()"
      ],
      "execution_count": 32,
      "outputs": [
        {
          "output_type": "stream",
          "text": [
            "+------------+----------+----------+-----------+----------+\n",
            "|        type|small_bags|large_bags|xlarge_bags|total_bags|\n",
            "+------------+----------+----------+-----------+----------+\n",
            "|conventional|   9186.93|    529.53|        0.0|   9716.46|\n",
            "|     organic|   1162.65|       0.0|        0.0|   1162.65|\n",
            "|conventional|  16707.15|  30108.64|        0.0|  46815.79|\n",
            "|     organic|   1071.35|    336.84|        0.0|   1408.19|\n",
            "|conventional| 137146.07|   3990.61|        0.0| 141136.68|\n",
            "|     organic|   3881.69|       0.0|        0.0|   3881.69|\n",
            "|conventional|    6064.3|   1691.32|        0.0|   7755.62|\n",
            "|     organic|    186.67|    187.68|        0.0|    374.35|\n",
            "|conventional|  87406.84|    256.29|        0.0|  87663.13|\n",
            "|     organic|   1244.04|       0.0|        0.0|   1244.04|\n",
            "|conventional|  57182.88|       0.0|        0.0|  57182.88|\n",
            "|     organic|     320.0|       0.0|        0.0|     320.0|\n",
            "|conventional| 477193.38|  47882.56|     3375.8| 528451.74|\n",
            "|     organic|   9144.15|       0.0|        0.0|   9144.15|\n",
            "|conventional|  44329.03|   6468.53|        0.0|  50797.56|\n",
            "|     organic|   1025.63|       0.0|        0.0|   1025.63|\n",
            "|conventional|  72888.46|   4651.02|        0.0|  77539.48|\n",
            "|     organic|    905.55|       0.0|        0.0|    905.55|\n",
            "|conventional|  17525.31|  37445.46|     112.67|  55083.44|\n",
            "|     organic|    585.96|   1112.15|        0.0|   1698.11|\n",
            "+------------+----------+----------+-----------+----------+\n",
            "only showing top 20 rows\n",
            "\n"
          ],
          "name": "stdout"
        }
      ]
    },
    {
      "cell_type": "code",
      "metadata": {
        "id": "7jVU5FbdPH2-"
      },
      "source": [
        "# Configure settings for RDS\n",
        "mode = \"append\"\n",
        "jdbc_url=\"jdbc:postgresql://database-finalavocado.ce3rvilzockn.us-east-2.rds.amazonaws.com:5432/avocado_final\"\n",
        "config = {\"user\":\"postgres\",\n",
        "          \"password\": \"ngoc2mna12\",\n",
        "          \"driver\":\"org.postgresql.Driver\"}"
      ],
      "execution_count": 68,
      "outputs": []
    },
    {
      "cell_type": "code",
      "metadata": {
        "id": "3-m_6aNJSl3A"
      },
      "source": [
        "# Write DataFrame to active_user table in RDS\n",
        "plu_data_df.write.jdbc(url=jdbc_url, table='plu', mode=mode, properties=config)"
      ],
      "execution_count": 61,
      "outputs": []
    },
    {
      "cell_type": "code",
      "metadata": {
        "id": "9F6ydUJAWRtY"
      },
      "source": [
        "# Write DataFrame to active_user table in RDS\n",
        "size_data_df.write.jdbc(url=jdbc_url, table='size', mode=mode, properties=config)"
      ],
      "execution_count": 62,
      "outputs": []
    },
    {
      "cell_type": "code",
      "metadata": {
        "id": "-RZjKkLMWXgl"
      },
      "source": [
        "# Write DataFrame to active_user table in RDS\n",
        "avocado_df.write.jdbc(url=jdbc_url, table='avocado_table', mode=mode, properties=config)"
      ],
      "execution_count": 69,
      "outputs": []
    },
    {
      "cell_type": "code",
      "metadata": {
        "id": "ZgPsIv6WWIFY"
      },
      "source": [
        ""
      ],
      "execution_count": null,
      "outputs": []
    }
  ]
}